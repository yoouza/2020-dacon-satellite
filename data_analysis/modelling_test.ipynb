{
  "nbformat": 4,
  "nbformat_minor": 0,
  "metadata": {
    "colab": {
      "name": "Untitled25.ipynb",
      "provenance": [],
      "mount_file_id": "1ojMXHPfB2G2vza3hkKMgXDxNnu9bqs6a",
      "authorship_tag": "ABX9TyM1kAWUHUekF2zDtyrSDPW0",
      "include_colab_link": true
    },
    "kernelspec": {
      "name": "python3",
      "display_name": "Python 3"
    }
  },
  "cells": [
    {
      "cell_type": "markdown",
      "metadata": {
        "id": "view-in-github",
        "colab_type": "text"
      },
      "source": [
        "<a href=\"https://colab.research.google.com/github/yoouza/2020-dacon-satellite/blob/master/data_analysis/modelling_test.ipynb\" target=\"_parent\"><img src=\"https://colab.research.google.com/assets/colab-badge.svg\" alt=\"Open In Colab\"/></a>"
      ]
    },
    {
      "cell_type": "code",
      "metadata": {
        "id": "DCP5Suq02LOA",
        "colab_type": "code",
        "colab": {
          "base_uri": "https://localhost:8080/",
          "height": 34
        },
        "outputId": "6011526f-f8bc-46d4-ae6a-4e9309e32506"
      },
      "source": [
        "import pandas as pd\n",
        "import numpy as np\n",
        "df = pd.read_csv(\"/content/drive/My Drive/CARD_SPENDING_RESIDENT.csv\", sep=\"\\t\")\n",
        "\n",
        "jung = df[df.GU_CD == 140]\n",
        "nowon = df[df.GU_CD == 350]\n",
        "\n",
        "jung2019 = jung[jung.STD_DD < 20190528]\n",
        "\n",
        "data = jung2019[jung2019.MCT_CAT_CD == 81] # 음료 식품 카테고리\n",
        "\n",
        "data = data.groupby('STD_DD').sum()[['USE_CNT','USE_AMT']].reset_index()\n",
        "\n",
        "amt_X, amt_y = [], []\n",
        "cnt_X, cnt_y = [], []\n",
        "for i in range(89):\n",
        "    amt_X.append(data.USE_AMT[i:i+20].values)\n",
        "    amt_y.append(data.USE_AMT[i+20:i+27].values)\n",
        "    cnt_X.append(data.USE_CNT[i:i+20].values)\n",
        "    # cnt_y.append(data.USE_CNT[i+20:i+27].values)\n",
        "\n",
        "amt_X = np.array(amt_X)\n",
        "amt_y = np.array(amt_y)\n",
        "cnt_X = np.array(cnt_X)\n",
        "# cnt_y = np.array(cnt_y)\n",
        "\n",
        "X = np.concatenate([amt_X.reshape(-1, 20, 1), cnt_X.reshape(-1, 20, 1)], axis=2)\n",
        "\n",
        "X.shape, amt_y.shape"
      ],
      "execution_count": 1,
      "outputs": [
        {
          "output_type": "execute_result",
          "data": {
            "text/plain": [
              "((89, 20, 2), (89, 7))"
            ]
          },
          "metadata": {
            "tags": []
          },
          "execution_count": 1
        }
      ]
    },
    {
      "cell_type": "code",
      "metadata": {
        "id": "Fa926rgJ3L-f",
        "colab_type": "code",
        "colab": {}
      },
      "source": [
        "y = amt_y"
      ],
      "execution_count": 4,
      "outputs": []
    },
    {
      "cell_type": "code",
      "metadata": {
        "id": "oopTosmV2exi",
        "colab_type": "code",
        "colab": {
          "base_uri": "https://localhost:8080/",
          "height": 34
        },
        "outputId": "1b16e545-820a-45f5-e69a-f3e086292997"
      },
      "source": [
        "import torch\n",
        "import torch.nn as nn\n",
        "import torch.nn.functional as F\n",
        "\n",
        "import torchvision\n",
        "import torchvision.transforms as transforms\n",
        "from torch.utils.data import Dataset,DataLoader\n",
        "import torch.optim as optim\n",
        "torch.manual_seed(1015)"
      ],
      "execution_count": 3,
      "outputs": [
        {
          "output_type": "execute_result",
          "data": {
            "text/plain": [
              "<torch._C.Generator at 0x7ff8f61a10f0>"
            ]
          },
          "metadata": {
            "tags": []
          },
          "execution_count": 3
        }
      ]
    },
    {
      "cell_type": "code",
      "metadata": {
        "id": "3rJW7h7V2vjw",
        "colab_type": "code",
        "colab": {}
      },
      "source": [
        "device = torch.device(\"cuda:0\" if torch.cuda.is_available() else \"cpu\")\n",
        "\n",
        "X = torch.FloatTensor(X).to(device)\n",
        "y = torch.FloatTensor(y).to(device)\n",
        "# valid_cycle_x = torch.FloatTensor(valid_cycle_x).to(device)\n",
        "# valid_cycle_y = torch.FloatTensor(valid_cycle_y).to(device)\n",
        "\n",
        "class LSTMModel_trend(nn.Module):\n",
        "    def __init__(self, input_size, hidden_size):\n",
        "        # time model\n",
        "        super(LSTMModel_trend, self).__init__()\n",
        "        self.hidden_size = hidden_size\n",
        "        self.lstm = nn.LSTM(input_size, hidden_size, batch_first=True)\n",
        "        self.time_fc = nn.Linear(hidden_size, 7)\n",
        "        \n",
        "    def forward(self, x_time):\n",
        "        # time part\n",
        "        hidden = (\n",
        "            torch.zeros(1, x_time.size(0), self.hidden_size).to(device),\n",
        "            torch.zeros(1, x_time.size(0), self.hidden_size).to(device)\n",
        "        )\n",
        "        \n",
        "        out, _ = self.lstm(x_time, hidden)\n",
        "        out = self.time_fc(out_time[:, -7:, :])#\n",
        "                        \n",
        "        return out.view(-1,7)\n",
        "\n",
        "#hidden state : 전달과정 중간 출력의 차원\n",
        "model_trend = LSTMModel_trend(input_size = 3, hidden_size = 32, no_time_size = 3).to(device)\n",
        "optimizer = torch.optim.Adam(model_trend.parameters(), lr = 1e-2)\n",
        "criterion = nn.MSELoss(size_average = True)\n",
        "\n",
        "# Train model\n",
        "num_epochs  = 200\n",
        "hist = np.zeros(num_epochs)\n",
        "\n",
        "# Number of steps to unroll\n",
        "look_back = 21\n",
        "seq_dim =look_back - 1  \n",
        "\n",
        "for t in range(num_epochs):\n",
        "    train_trend_pred = model_trend(train_trend_x, train_trend_x_notime)\n",
        "    loss = criterion(train_trend_pred, train_trend_y)\n",
        "\n",
        "    if t % 10 == 0 and t !=0:\n",
        "        print(\"Epoch \", t, \"MSE: \", loss.item())\n",
        "    hist[t] = loss.item()\n",
        "\n",
        "    optimizer.zero_grad()\n",
        "    loss.backward()\n",
        "    optimizer.step()\n",
        "\n",
        "for i in range(10):\n",
        "    i = i*7\n",
        "    plt.plot(np.arange(20),train_trend_x.cpu().detach().numpy()[i,:,0],\n",
        "             marker = 'o', color = 'black', label = 'True_input')\n",
        "    plt.plot(np.arange(21,28),train_trend_y.cpu().detach().numpy()[i],\n",
        "             marker = 'o', color = 'red', label = 'True_output', alpha = 0.5)\n",
        "    plt.plot(np.arange(21,28),train_trend_pred.cpu().detach().numpy()[i],\n",
        "             color = 'blue', label = 'Predict', marker = 'x', ls = '--', alpha = 0.5)\n",
        "    plt.legend()\n",
        "    plt.show()"
      ],
      "execution_count": null,
      "outputs": []
    }
  ]
}