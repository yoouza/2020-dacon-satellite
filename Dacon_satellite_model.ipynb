{
  "nbformat": 4,
  "nbformat_minor": 0,
  "metadata": {
    "colab": {
      "name": "Dacon_satellite_dist.ipynb",
      "provenance": [],
      "collapsed_sections": [],
      "include_colab_link": true
    },
    "kernelspec": {
      "name": "python3",
      "display_name": "Python 3"
    }
  },
  "cells": [
    {
      "cell_type": "markdown",
      "metadata": {
        "id": "view-in-github",
        "colab_type": "text"
      },
      "source": [
        "<a href=\"https://colab.research.google.com/github/curiosity806/machine-learning-and-practice-report/blob/master/Dacon_satellite_model.ipynb\" target=\"_parent\"><img src=\"https://colab.research.google.com/assets/colab-badge.svg\" alt=\"Open In Colab\"/></a>"
      ]
    },
    {
      "cell_type": "code",
      "metadata": {
        "id": "F30nI34oAhQd",
        "colab_type": "code",
        "colab": {
          "base_uri": "https://localhost:8080/",
          "height": 126
        },
        "outputId": "33f70d1e-c415-4701-b168-08f5a102acd2"
      },
      "source": [
        "from google.colab import drive\n",
        "drive.mount('/content/drive')"
      ],
      "execution_count": 1,
      "outputs": [
        {
          "output_type": "stream",
          "text": [
            "Go to this URL in a browser: https://accounts.google.com/o/oauth2/auth?client_id=947318989803-6bn6qk8qdgf4n4g3pfee6491hc0brc4i.apps.googleusercontent.com&redirect_uri=urn%3aietf%3awg%3aoauth%3a2.0%3aoob&response_type=code&scope=email%20https%3a%2f%2fwww.googleapis.com%2fauth%2fdocs.test%20https%3a%2f%2fwww.googleapis.com%2fauth%2fdrive%20https%3a%2f%2fwww.googleapis.com%2fauth%2fdrive.photos.readonly%20https%3a%2f%2fwww.googleapis.com%2fauth%2fpeopleapi.readonly\n",
            "\n",
            "Enter your authorization code:\n",
            "··········\n",
            "Mounted at /content/drive\n"
          ],
          "name": "stdout"
        }
      ]
    },
    {
      "cell_type": "code",
      "metadata": {
        "id": "UUGgelKUAkGU",
        "colab_type": "code",
        "colab": {}
      },
      "source": [
        "# 훈련 데이터\n",
        "!cp '/content/drive/My Drive/2020 Kaggle Study/data/train_final.npy' train.npy"
      ],
      "execution_count": 2,
      "outputs": []
    },
    {
      "cell_type": "code",
      "metadata": {
        "id": "zXRwXj5gApfl",
        "colab_type": "code",
        "colab": {}
      },
      "source": [
        "import numpy as np\n",
        "train = np.load('train.npy')"
      ],
      "execution_count": 3,
      "outputs": []
    },
    {
      "cell_type": "code",
      "metadata": {
        "id": "hdgjCD1dAsMe",
        "colab_type": "code",
        "colab": {
          "base_uri": "https://localhost:8080/",
          "height": 72
        },
        "outputId": "3b7293ab-2f7a-4e7c-99fc-aa02c1d9d73d"
      },
      "source": [
        "import glob\n",
        "import pandas as pd\n",
        "import numpy as np\n",
        "import matplotlib.pylab as plt\n",
        "import seaborn as sns\n",
        "from tqdm import tqdm\n",
        "import matplotlib.pyplot as plt\n",
        "import tensorflow as tf\n",
        "import os\n",
        "import random\n",
        "from tensorflow.keras.layers import Dense, Conv2D, Dropout, Conv2DTranspose, MaxPooling2D, BatchNormalization, Activation, concatenate, Input, GlobalAveragePooling2D\n",
        "from tensorflow.keras import Model\n",
        "import warnings\n",
        "import gc\n",
        "import matplotlib.pyplot as plt\n",
        "import matplotlib.animation as animation\n",
        "from scipy import stats\n",
        "from mpl_toolkits.axes_grid1 import make_axes_locatable\n",
        "\n",
        "warnings.filterwarnings(\"ignore\")\n",
        "\n",
        "# 재생산성을 위해 시드 고정\n",
        "np.random.seed(7)\n",
        "random.seed(7)\n",
        "tf.random.set_seed(7)"
      ],
      "execution_count": 4,
      "outputs": [
        {
          "output_type": "stream",
          "text": [
            "/usr/local/lib/python3.6/dist-packages/statsmodels/tools/_testing.py:19: FutureWarning: pandas.util.testing is deprecated. Use the functions in the public API at pandas.testing instead.\n",
            "  import pandas.util.testing as tm\n"
          ],
          "name": "stderr"
        }
      ]
    },
    {
      "cell_type": "markdown",
      "metadata": {
        "id": "9i_Wk1SD63As",
        "colab_type": "text"
      },
      "source": [
        "# 모델링"
      ]
    },
    {
      "cell_type": "code",
      "metadata": {
        "id": "CMYgHvZtU-Dt",
        "colab_type": "code",
        "colab": {}
      },
      "source": [
        "def mae(y_true, y_pred):\n",
        "    y_true = np.array(y_true)\n",
        "    y_true = y_true.reshape(1, -1)[0]  \n",
        "    y_pred = np.array(y_pred)\n",
        "    y_pred = y_pred.reshape(1, -1)[0]\n",
        "    mae = np.mean(np.abs(y_true - y_pred))\n",
        "    return mae\n",
        "\n",
        "X = train[:,:14]\n",
        "y = train[:,-1]\n",
        "X.shape, y.shape\n",
        "\n",
        "from sklearn.model_selection import train_test_split\n",
        "X_train, X_test, y_train, y_test = train_test_split(X, y, test_size=0.2)"
      ],
      "execution_count": 5,
      "outputs": []
    },
    {
      "cell_type": "markdown",
      "metadata": {
        "id": "LPn3HU9S9JQC",
        "colab_type": "text"
      },
      "source": [
        "### X_test와 y_test는 모든 학습이 끝나고 맨 마지막에 사용!!\n",
        "### 중간 평가는 cross validaiton으로 수행할 것!!\n",
        "\n",
        "데이터 전처리부분 레포트 정리도 다 했는데, 글은 최소화하고, 그냥 이미지로 채웠습니다... 내일 다시 읽어보고 추가할 부분 있으면 얘기해 주세요\n",
        "\n",
        "\n",
        "선형회귀부터 엘라스틱까지 정리 했습니닷\n",
        "그리고 각 모델별로 노멀라이즈랑 노멀라이즈 안한 거 비교했고!\n",
        "\n",
        "1. 이제 뒤에 있는 모델들도 앞에 있는 형식 유지하면서 작성하고\n",
        "\n",
        "2. grid search\n",
        "3. feature importance 추출할 수 있는 모델들은 어제 말한대로 하나씩 feature추가하면서 cv스코어 어떻게 달라지는 지 그래프로 표현하기\n",
        "4. pca적용하고 가장 좋은 모델에서 pc 하나씩 추가 하면서 cv가 어떻게 달라지는 지 그래프로 표현하기\n",
        "\n",
        "이렇게 하면 되는데\n",
        "\n",
        "누나 할 수 있는 곳까지 부탁합니다.ㅎㅎ"
      ]
    },
    {
      "cell_type": "code",
      "metadata": {
        "id": "ZzuBS4Z_oyhP",
        "colab_type": "code",
        "colab": {}
      },
      "source": [
        "train_shuffle = train.copy()\n",
        "np.random.shuffle(train_shuffle)"
      ],
      "execution_count": 7,
      "outputs": []
    },
    {
      "cell_type": "code",
      "metadata": {
        "id": "KjP8BeZuoyeM",
        "colab_type": "code",
        "colab": {
          "base_uri": "https://localhost:8080/",
          "height": 88
        },
        "outputId": "bac58c65-31e2-4fa9-9311-6334c0920bc0"
      },
      "source": [
        "print(f'랜덤한 예측 모델의 mae score : {mae(train_shuffle[:,-1], train[:,-1])}')\n",
        "print(f'타겟의 평균                  : {np.mean(train[:,-1])}')\n",
        "print(f'타겟의 분산                  : {np.var(train[:,-1])}')\n",
        "print(f'타겟의 표준편차              : {np.std(train[:,-1])}')"
      ],
      "execution_count": 11,
      "outputs": [
        {
          "output_type": "stream",
          "text": [
            "랜덤한 예측 모델의 mae score : 23.926362991333008\n",
            "타겟의 평균                  : 41.64913558959961\n",
            "타겟의 분산                  : 632.9130249023438\n",
            "타겟의 표준편차              : 25.15776252746582\n"
          ],
          "name": "stdout"
        }
      ]
    },
    {
      "cell_type": "code",
      "metadata": {
        "id": "slxLaXP9oycN",
        "colab_type": "code",
        "colab": {
          "base_uri": "https://localhost:8080/",
          "height": 595
        },
        "outputId": "db6344cd-c740-48bc-8850-a43596595fb2"
      },
      "source": [
        "plt.figure(figsize = (10,10))\n",
        "train_df = pd.DataFrame(train)\n",
        "sns.heatmap(train_df.corr(), annot = True)\n",
        "plt.show()"
      ],
      "execution_count": 14,
      "outputs": [
        {
          "output_type": "display_data",
          "data": {
            "image/png": "[encoded data removed]",
            "text/plain": [
              "<Figure size 720x720 with 2 Axes>"
            ]
          },
          "metadata": {
            "tags": [],
            "needs_background": "light"
          }
        }
      ]
    },
    {
      "cell_type": "code",
      "metadata": {
        "id": "Sp4v2fZ4oyZV",
        "colab_type": "code",
        "colab": {
          "base_uri": "https://localhost:8080/",
          "height": 595
        },
        "outputId": "d63c1d5e-9dd3-45b0-b9e3-37e85280a5b3"
      },
      "source": [
        "train_select = train_df.iloc[:,[3,4,7,9,10,11,14]]\n",
        "plt.figure(figsize = (10,10))\n",
        "\n",
        "sns.heatmap(train_select.corr(), annot = True)\n",
        "plt.show()"
      ],
      "execution_count": 16,
      "outputs": [
        {
          "output_type": "display_data",
          "data": {
            "image/png": "[encoded data removed]",
            "text/plain": [
              "<Figure size 720x720 with 2 Axes>"
            ]
          },
          "metadata": {
            "tags": [],
            "needs_background": "light"
          }
        }
      ]
    },
    {
      "cell_type": "code",
      "metadata": {
        "id": "hfx7lF4eoyXS",
        "colab_type": "code",
        "colab": {}
      },
      "source": [
        "train_select = np.array(train_select)"
      ],
      "execution_count": 17,
      "outputs": []
    },
    {
      "cell_type": "code",
      "metadata": {
        "id": "zGxYwMhioyUm",
        "colab_type": "code",
        "colab": {
          "base_uri": "https://localhost:8080/",
          "height": 35
        },
        "outputId": "77a51dd4-3fbc-4e83-bf32-0732bad73359"
      },
      "source": [
        "train_select.shape"
      ],
      "execution_count": 19,
      "outputs": [
        {
          "output_type": "execute_result",
          "data": {
            "text/plain": [
              "(11684, 7)"
            ]
          },
          "metadata": {
            "tags": []
          },
          "execution_count": 19
        }
      ]
    },
    {
      "cell_type": "markdown",
      "metadata": {
        "id": "Ba4SQfbmaCHd",
        "colab_type": "text"
      },
      "source": [
        "## 선형회귀\n",
        "다시 돌려야 함 (주석 오타)"
      ]
    },
    {
      "cell_type": "markdown",
      "metadata": {
        "id": "tpzH6MptkI-Z",
        "colab_type": "text"
      },
      "source": [
        "1. 모형의 선형성: 모든 예측값에서 잔차가 비슷하게 있어야 함\n",
        "2. 잔차의 정규성:Q-Q Plot\n",
        "3. 잔차의 등분산성\n",
        "4. 잔차의 독립성\n",
        "\n",
        "기본 가정을 만족하지 않는다면 stepwise로 4가지 기본 가정을 위배시키는 변수를 제거"
      ]
    },
    {
      "cell_type": "code",
      "metadata": {
        "id": "a5xKnu_64qFl",
        "colab_type": "code",
        "colab": {}
      },
      "source": [
        "from sklearn.model_selection import KFold\n",
        "from sklearn.linear_model import LinearRegression\n",
        "\n",
        "kf = KFold(n_splits=5)\n",
        "scores = []\n",
        "for train_index, test_index in kf.split(X_train):\n",
        "    lr = LinearRegression(normalize = False)\n",
        "    lr.fit(X_train[train_index], y_train[train_index])\n",
        "    # pred = lr.predict(X_train[train_index])\n",
        "    # scores.append(mae(y_train[train_index], pred))\n",
        "    pred = lr.predict(X_train[test_index])\n",
        "    scores.append(mae(y_train[test_index], pred))\n",
        "\n",
        "LR_cv_mae = np.mean(scores)\n",
        "print('LinearRegression, normalize = False')\n",
        "print(f'단순 선형 회귀 cv_mae_score = {LR_cv_mae}\\n')\n",
        "\n",
        "kf = KFold(n_splits=5)\n",
        "scores = []\n",
        "for train_index, test_index in kf.split(X_train):\n",
        "    lr = LinearRegression(normalize = True)\n",
        "    lr.fit(X_train[train_index], y_train[train_index])\n",
        "    # pred = lr.predict(X_train[train_index])\n",
        "    # scores.append(mae(y_train[train_index], pred))\n",
        "    pred = lr.predict(X_train[test_index])\n",
        "    scores.append(mae(y_train[test_index], pred))\n",
        "    \n",
        "LR_normal_cv_mae = np.mean(scores)\n",
        "print('LinearRegression, normalize = True')\n",
        "print(f'단순 선형 회귀 cv_mae_score = {LR_normal_cv_mae}\\n')"
      ],
      "execution_count": null,
      "outputs": []
    },
    {
      "cell_type": "code",
      "metadata": {
        "id": "msQZJ_tB4qCk",
        "colab_type": "code",
        "colab": {}
      },
      "source": [
        ""
      ],
      "execution_count": null,
      "outputs": []
    },
    {
      "cell_type": "code",
      "metadata": {
        "id": "XdznRCq04qAc",
        "colab_type": "code",
        "colab": {}
      },
      "source": [
        ""
      ],
      "execution_count": null,
      "outputs": []
    },
    {
      "cell_type": "code",
      "metadata": {
        "id": "YsxKv_t062VT",
        "colab_type": "code",
        "colab": {
          "base_uri": "https://localhost:8080/",
          "height": 124
        },
        "outputId": "e31f2b4b-2cdf-40f8-8f90-54c5c2ce8ea6"
      },
      "source": [
        "X = train_select[:,:-1]\n",
        "y = train_select[:,-1]\n",
        "X.shape, y.shape\n",
        "\n",
        "from sklearn.model_selection import train_test_split\n",
        "X_train, X_test, y_train, y_test = train_test_split(X, y, test_size=0.2)\n",
        "\n",
        "from sklearn.model_selection import KFold\n",
        "from sklearn.linear_model import LinearRegression\n",
        "\n",
        "kf = KFold(n_splits=5)\n",
        "scores = []\n",
        "for train_index, test_index in kf.split(X_train):\n",
        "    lr = LinearRegression(normalize = False)\n",
        "    lr.fit(X_train[train_index], y_train[train_index])\n",
        "    # pred = lr.predict(X_train[train_index])\n",
        "    # scores.append(mae(y_train[train_index], pred))\n",
        "    pred = lr.predict(X_train[test_index])\n",
        "    scores.append(mae(y_train[test_index], pred))\n",
        "\n",
        "LR_cv_mae = np.mean(scores)\n",
        "print('LinearRegression, normalize = False')\n",
        "print(f'단순 선형 회귀 cv_mae_score = {LR_cv_mae}\\n')\n",
        "\n",
        "kf = KFold(n_splits=5)\n",
        "scores = []\n",
        "for train_index, test_index in kf.split(X_train):\n",
        "    lr = LinearRegression(normalize = True)\n",
        "    lr.fit(X_train[train_index], y_train[train_index])\n",
        "    # pred = lr.predict(X_train[train_index])\n",
        "    # scores.append(mae(y_train[train_index], pred))\n",
        "    pred = lr.predict(X_train[test_index])\n",
        "    scores.append(mae(y_train[test_index], pred))\n",
        "    \n",
        "LR_normal_cv_mae = np.mean(scores)\n",
        "print('LinearRegression, normalize = True')\n",
        "print(f'단순 선형 회귀 cv_mae_score = {LR_normal_cv_mae}\\n')"
      ],
      "execution_count": 21,
      "outputs": [
        {
          "output_type": "stream",
          "text": [
            "LinearRegression, normalize = False\n",
            "단순 선형 회귀 cv_mae_score = 17.420591354370117\n",
            "\n",
            "LinearRegression, normalize = True\n",
            "단순 선형 회귀 cv_mae_score = 17.42059326171875\n",
            "\n"
          ],
          "name": "stdout"
        }
      ]
    },
    {
      "cell_type": "code",
      "metadata": {
        "id": "bnKSYldB9APv",
        "colab_type": "code",
        "colab": {}
      },
      "source": [
        "from sklearn.model_selection import train_test_split\n",
        "\n",
        "def get_model1(seed):\n",
        "    df_train, df_test = train_test_split(df, test_size=0.5, random_state=seed)\n",
        "    model = sm.OLS.from_formula(\"TOTEMP ~ GNPDEFL + POP + GNP + YEAR + ARMED + UNEMP\", data=df_train)\n",
        "    return df_train, df_test, model.fit()\n",
        "\n",
        "\n",
        "df_train, df_test, result1 = get_model1(3)\n",
        "print(result1.summary())"
      ],
      "execution_count": 23,
      "outputs": []
    },
    {
      "cell_type": "code",
      "metadata": {
        "id": "ZH-oxPvV9ALx",
        "colab_type": "code",
        "colab": {
          "base_uri": "https://localhost:8080/",
          "height": 458
        },
        "outputId": "35d4351b-5246-474e-dcd5-8d939773f8e8"
      },
      "source": [
        "from statsmodels.stats.outliers_influence import variance_inflation_factor\n",
        "vif = pd.DataFrame()\n",
        "vif[\"VIF Factor\"] = [variance_inflation_factor(train[:,:-1], i) for i in range(train[:,:-1].shape[1])]\n",
        "vif[\"VIF Factor\"]"
      ],
      "execution_count": 24,
      "outputs": [
        {
          "output_type": "execute_result",
          "data": {
            "text/html": [
              "<div>\n",
              "<style scoped>\n",
              "    .dataframe tbody tr th:only-of-type {\n",
              "        vertical-align: middle;\n",
              "    }\n",
              "\n",
              "    .dataframe tbody tr th {\n",
              "        vertical-align: top;\n",
              "    }\n",
              "\n",
              "    .dataframe thead th {\n",
              "        text-align: right;\n",
              "    }\n",
              "</style>\n",
              "<table border=\"1\" class=\"dataframe\">\n",
              "  <thead>\n",
              "    <tr style=\"text-align: right;\">\n",
              "      <th></th>\n",
              "      <th>VIF Factor</th>\n",
              "    </tr>\n",
              "  </thead>\n",
              "  <tbody>\n",
              "    <tr>\n",
              "      <th>0</th>\n",
              "      <td>2.544273e+04</td>\n",
              "    </tr>\n",
              "    <tr>\n",
              "      <th>1</th>\n",
              "      <td>6.660993e+03</td>\n",
              "    </tr>\n",
              "    <tr>\n",
              "      <th>2</th>\n",
              "      <td>1.170341e+05</td>\n",
              "    </tr>\n",
              "    <tr>\n",
              "      <th>3</th>\n",
              "      <td>3.581680e+04</td>\n",
              "    </tr>\n",
              "    <tr>\n",
              "      <th>4</th>\n",
              "      <td>4.667093e+04</td>\n",
              "    </tr>\n",
              "    <tr>\n",
              "      <th>5</th>\n",
              "      <td>7.957601e+04</td>\n",
              "    </tr>\n",
              "    <tr>\n",
              "      <th>6</th>\n",
              "      <td>3.999425e+04</td>\n",
              "    </tr>\n",
              "    <tr>\n",
              "      <th>7</th>\n",
              "      <td>1.271855e+04</td>\n",
              "    </tr>\n",
              "    <tr>\n",
              "      <th>8</th>\n",
              "      <td>1.043093e+04</td>\n",
              "    </tr>\n",
              "    <tr>\n",
              "      <th>9</th>\n",
              "      <td>2.149631e+00</td>\n",
              "    </tr>\n",
              "    <tr>\n",
              "      <th>10</th>\n",
              "      <td>4.277438e+07</td>\n",
              "    </tr>\n",
              "    <tr>\n",
              "      <th>11</th>\n",
              "      <td>2.472574e+06</td>\n",
              "    </tr>\n",
              "    <tr>\n",
              "      <th>12</th>\n",
              "      <td>4.238147e+07</td>\n",
              "    </tr>\n",
              "    <tr>\n",
              "      <th>13</th>\n",
              "      <td>2.478430e+06</td>\n",
              "    </tr>\n",
              "  </tbody>\n",
              "</table>\n",
              "</div>"
            ],
            "text/plain": [
              "      VIF Factor\n",
              "0   2.544273e+04\n",
              "1   6.660993e+03\n",
              "2   1.170341e+05\n",
              "3   3.581680e+04\n",
              "4   4.667093e+04\n",
              "5   7.957601e+04\n",
              "6   3.999425e+04\n",
              "7   1.271855e+04\n",
              "8   1.043093e+04\n",
              "9   2.149631e+00\n",
              "10  4.277438e+07\n",
              "11  2.472574e+06\n",
              "12  4.238147e+07\n",
              "13  2.478430e+06"
            ]
          },
          "metadata": {
            "tags": []
          },
          "execution_count": 24
        }
      ]
    },
    {
      "cell_type": "code",
      "metadata": {
        "id": "LHkPgue29AHr",
        "colab_type": "code",
        "colab": {
          "base_uri": "https://localhost:8080/",
          "height": 223
        },
        "outputId": "64ea83c1-0c10-4b5b-ca6a-7158233597a4"
      },
      "source": [
        "vif = pd.DataFrame()\n",
        "vif[\"VIF Factor\"] = [variance_inflation_factor(train_select[:,:-1], i) for i in range(train_select[:,:-1].shape[1])]\n",
        "vif"
      ],
      "execution_count": 25,
      "outputs": [
        {
          "output_type": "execute_result",
          "data": {
            "text/html": [
              "<div>\n",
              "<style scoped>\n",
              "    .dataframe tbody tr th:only-of-type {\n",
              "        vertical-align: middle;\n",
              "    }\n",
              "\n",
              "    .dataframe tbody tr th {\n",
              "        vertical-align: top;\n",
              "    }\n",
              "\n",
              "    .dataframe thead th {\n",
              "        text-align: right;\n",
              "    }\n",
              "</style>\n",
              "<table border=\"1\" class=\"dataframe\">\n",
              "  <thead>\n",
              "    <tr style=\"text-align: right;\">\n",
              "      <th></th>\n",
              "      <th>VIF Factor</th>\n",
              "    </tr>\n",
              "  </thead>\n",
              "  <tbody>\n",
              "    <tr>\n",
              "      <th>0</th>\n",
              "      <td>441.354332</td>\n",
              "    </tr>\n",
              "    <tr>\n",
              "      <th>1</th>\n",
              "      <td>929.381566</td>\n",
              "    </tr>\n",
              "    <tr>\n",
              "      <th>2</th>\n",
              "      <td>116.195878</td>\n",
              "    </tr>\n",
              "    <tr>\n",
              "      <th>3</th>\n",
              "      <td>1.333784</td>\n",
              "    </tr>\n",
              "    <tr>\n",
              "      <th>4</th>\n",
              "      <td>68.845156</td>\n",
              "    </tr>\n",
              "    <tr>\n",
              "      <th>5</th>\n",
              "      <td>4.506385</td>\n",
              "    </tr>\n",
              "  </tbody>\n",
              "</table>\n",
              "</div>"
            ],
            "text/plain": [
              "   VIF Factor\n",
              "0  441.354332\n",
              "1  929.381566\n",
              "2  116.195878\n",
              "3    1.333784\n",
              "4   68.845156\n",
              "5    4.506385"
            ]
          },
          "metadata": {
            "tags": []
          },
          "execution_count": 25
        }
      ]
    },
    {
      "cell_type": "markdown",
      "metadata": {
        "id": "b1mknlZiaF1Z",
        "colab_type": "text"
      },
      "source": [
        "## 다항회귀"
      ]
    },
    {
      "cell_type": "code",
      "metadata": {
        "id": "3QOSY1Msfr2-",
        "colab_type": "code",
        "colab": {
          "base_uri": "https://localhost:8080/",
          "height": 122
        },
        "outputId": "0f18ff24-b3f0-4d21-f8a3-061dfdb1f31e"
      },
      "source": [
        "from sklearn.preprocessing import PolynomialFeatures\n",
        "from sklearn.linear_model import LinearRegression\n",
        "from sklearn.model_selection import KFold\n",
        "\n",
        "kf = KFold(n_splits=5)\n",
        "scores = []\n",
        "for train_index, test_index in kf.split(X_train):\n",
        "    #다항 항 만들기\n",
        "    interaction = PolynomialFeatures(degree=3, include_bias=False, interaction_only=True)\n",
        "    features_interaction = interaction.fit_transform(X_train[train_index])\n",
        "    test_interaction = interaction.transform(X_train[test_index])\n",
        "    # 선형회귀 모델 훈련\n",
        "    lr = LinearRegression(normalize = False)\n",
        "    lr.fit(features_interaction, y_train[train_index])\n",
        "    pred = lr.predict(test_interaction)\n",
        "    scores.append(mae(y_train[test_index], pred))\n",
        "\n",
        "Poly_LR_cv_mae = np.mean(scores)\n",
        "print('Poly_LR_cv_mae, degree  = 3,  normalize = False')\n",
        "print(f'Poly_LR_cv_mae = {Poly_LR_cv_mae}\\n')\n",
        "\n",
        "kf = KFold(n_splits=5)\n",
        "scores = []\n",
        "for train_index, test_index in kf.split(X_train):\n",
        "    #다항 항 만들기\n",
        "    interaction = PolynomialFeatures(degree=3, include_bias=False, interaction_only=True)\n",
        "    features_interaction = interaction.fit_transform(X_train[train_index])\n",
        "    test_interaction = interaction.transform(X_train[test_index])\n",
        "    # 선형회귀 모델 훈련\n",
        "    lr = LinearRegression(normalize = True)\n",
        "    lr.fit(features_interaction, y_train[train_index])\n",
        "    pred = lr.predict(test_interaction)\n",
        "    scores.append(mae(y_train[test_index], pred))\n",
        "\n",
        "Poly_LR_normal_cv_mae = np.mean(scores)\n",
        "print('Poly_LR_normal_cv_mae, degree  = 3,  normalize = True')\n",
        "print(f'Poly_LR_normal_cv_mae = {Poly_LR_normal_cv_mae}\\n')"
      ],
      "execution_count": null,
      "outputs": [
        {
          "output_type": "stream",
          "text": [
            "Poly_LR_cv_mae, degree  = 3,  normalize = False\n",
            "Poly_LR_cv_mae = 17.9493408203125\n",
            "\n",
            "Poly_LR_normal_cv_mae, degree  = 3,  normalize = True\n",
            "Poly_LR_normal_cv_mae = 17.74848747253418\n",
            "\n"
          ],
          "name": "stdout"
        }
      ]
    },
    {
      "cell_type": "markdown",
      "metadata": {
        "id": "ZP3k-0zh-Ti7",
        "colab_type": "text"
      },
      "source": [
        "### 릿지 다항 회귀"
      ]
    },
    {
      "cell_type": "code",
      "metadata": {
        "id": "3g1hdbZIZwar",
        "colab_type": "code",
        "colab": {
          "base_uri": "https://localhost:8080/",
          "height": 122
        },
        "outputId": "e534fd27-2c89-4068-d602-37bd16af36f8"
      },
      "source": [
        "from sklearn.linear_model import Ridge, Lasso, ElasticNet\n",
        "from sklearn.model_selection import KFold\n",
        "\n",
        "kf = KFold(n_splits=5)\n",
        "scores = []\n",
        "for train_index, test_index in kf.split(X_train):\n",
        "    #다항 항 만들기\n",
        "    interaction = PolynomialFeatures(degree=3, include_bias=False, interaction_only=True)\n",
        "    features_interaction = interaction.fit_transform(X_train[train_index])\n",
        "    test_interaction = interaction.transform(X_train[test_index])\n",
        "    # Ridge 모델 훈련\n",
        "    Ridge_model = Ridge(normalize = False, alpha = 0.1)\n",
        "    Ridge_model.fit(features_interaction, y_train[train_index])\n",
        "    pred = Ridge_model.predict(test_interaction)\n",
        "    scores.append(mae(y_train[test_index], pred))\n",
        "\n",
        "Poly_Ridge_cv_mae = np.mean(scores)\n",
        "print('Poly_Ridge_cv_mae, degree  = 3,  normalize = False')\n",
        "print(f'Poly_Ridge_cv_mae = {Poly_Ridge_cv_mae}\\n')\n",
        "\n",
        "kf = KFold(n_splits=5)\n",
        "scores = []\n",
        "for train_index, test_index in kf.split(X_train):\n",
        "    #다항 항 만들기\n",
        "    interaction = PolynomialFeatures(degree=3, include_bias=False, interaction_only=True)\n",
        "    features_interaction = interaction.fit_transform(X_train[train_index])\n",
        "    test_interaction = interaction.transform(X_train[test_index])\n",
        "    # Ridge 모델 훈련\n",
        "    Ridge_model = Ridge(normalize = True, alpha = 0.1)\n",
        "    Ridge_model.fit(features_interaction, y_train[train_index])\n",
        "    pred = Ridge_model.predict(test_interaction)\n",
        "    scores.append(mae(y_train[test_index], pred))\n",
        "\n",
        "Poly_Ridge_normal_cv_mae = np.mean(scores)\n",
        "print('Poly_Ridge_normal_cv_mae, degree  = 3,  normalize = True')\n",
        "print(f'Poly_Ridge_normal_cv_mae = {Poly_Ridge_normal_cv_mae}\\n')"
      ],
      "execution_count": null,
      "outputs": [
        {
          "output_type": "stream",
          "text": [
            "Poly_Ridge_cv_mae, degree  = 3,  normalize = False\n",
            "Poly_Ridge_cv_mae = 19.5375919342041\n",
            "\n",
            "Poly_Ridge_normal_cv_mae, degree  = 3,  normalize = True\n",
            "Poly_Ridge_normal_cv_mae = 17.378116607666016\n",
            "\n"
          ],
          "name": "stdout"
        }
      ]
    },
    {
      "cell_type": "markdown",
      "metadata": {
        "id": "5yB0a2qz-XJR",
        "colab_type": "text"
      },
      "source": [
        "### 라쏘 다항회귀"
      ]
    },
    {
      "cell_type": "code",
      "metadata": {
        "id": "TTtfwzkZ_BYl",
        "colab_type": "code",
        "colab": {
          "base_uri": "https://localhost:8080/",
          "height": 122
        },
        "outputId": "1e1917c5-02ba-4c5a-9c80-b4cae969249a"
      },
      "source": [
        "kf = KFold(n_splits=5)\n",
        "scores = []\n",
        "for train_index, test_index in kf.split(X_train):\n",
        "    #다항 항 만들기\n",
        "    interaction = PolynomialFeatures(degree=3, include_bias=False, interaction_only=True)\n",
        "    features_interaction = interaction.fit_transform(X_train[train_index])\n",
        "    test_interaction = interaction.transform(X_train[test_index])\n",
        "    # Ridge 모델 훈련\n",
        "    Lasso_model = Lasso(normalize = False, alpha = 0.1)\n",
        "    Lasso_model.fit(features_interaction, y_train[train_index])\n",
        "    pred = Lasso_model.predict(test_interaction)\n",
        "    scores.append(mae(y_train[test_index], pred))\n",
        "\n",
        "Poly_Lasso_cv_mae = np.mean(scores)\n",
        "print('Poly_Lasso_cv_mae, degree  = 3,  normalize = False')\n",
        "print(f'Poly_Lasso_cv_mae = {Poly_Lasso_cv_mae}\\n')\n",
        "\n",
        "kf = KFold(n_splits=5)\n",
        "scores = []\n",
        "for train_index, test_index in kf.split(X_train):\n",
        "    #다항 항 만들기\n",
        "    interaction = PolynomialFeatures(degree=3, include_bias=False, interaction_only=True)\n",
        "    features_interaction = interaction.fit_transform(X_train[train_index])\n",
        "    test_interaction = interaction.transform(X_train[test_index])\n",
        "    # Ridge 모델 훈련\n",
        "    Lasso_model = Lasso(normalize = True, alpha = 0.1)\n",
        "    Lasso_model.fit(features_interaction, y_train[train_index])\n",
        "    pred = Lasso_model.predict(test_interaction)\n",
        "    scores.append(mae(y_train[test_index], pred))\n",
        "\n",
        "Poly_Lasso_normal_cv_mae = np.mean(scores)\n",
        "print('Poly_Lasso_normal_cv_mae, degree  = 3,  normalize = True')\n",
        "print(f'Poly_Lasso_normal_cv_mae = {Poly_Lasso_normal_cv_mae}\\n')"
      ],
      "execution_count": null,
      "outputs": [
        {
          "output_type": "stream",
          "text": [
            "Poly_Lasso_cv_mae, degree  = 3,  normalize = False\n",
            "Poly_Lasso_cv_mae = 17.245738983154297\n",
            "\n",
            "Poly_Lasso_normal_cv_mae, degree  = 3,  normalize = True\n",
            "Poly_Lasso_normal_cv_mae = 18.111082077026367\n",
            "\n"
          ],
          "name": "stdout"
        }
      ]
    },
    {
      "cell_type": "markdown",
      "metadata": {
        "id": "_jCRJTV4-ZCj",
        "colab_type": "text"
      },
      "source": [
        "### 엘라스틱 다항회귀"
      ]
    },
    {
      "cell_type": "code",
      "metadata": {
        "id": "8K96kdYT_SXi",
        "colab_type": "code",
        "colab": {
          "base_uri": "https://localhost:8080/",
          "height": 122
        },
        "outputId": "7adae19e-fc36-4913-d3f1-2069816776ed"
      },
      "source": [
        "kf = KFold(n_splits=5)\n",
        "scores = []\n",
        "for train_index, test_index in kf.split(X_train):\n",
        "    #다항 항 만들기\n",
        "    interaction = PolynomialFeatures(degree=3, include_bias=False, interaction_only=True)\n",
        "    features_interaction = interaction.fit_transform(X_train[train_index])\n",
        "    test_interaction = interaction.transform(X_train[test_index])\n",
        "    # Ridge 모델 훈련\n",
        "    ElasticNet_model = ElasticNet(normalize = False, alpha = 0.1)\n",
        "    ElasticNet_model.fit(features_interaction, y_train[train_index])\n",
        "    pred = ElasticNet_model.predict(test_interaction)\n",
        "    scores.append(mae(y_train[test_index], pred))\n",
        "\n",
        "Poly_ElasticNet_cv_mae = np.mean(scores)\n",
        "print('Poly_ElasticNet_cv_mae, degree  = 3,  normalize = False')\n",
        "print(f'Poly_ElasticNet_cv_mae = {Poly_ElasticNet_cv_mae}\\n')\n",
        "\n",
        "kf = KFold(n_splits=5)\n",
        "scores = []\n",
        "for train_index, test_index in kf.split(X_train):\n",
        "    #다항 항 만들기\n",
        "    interaction = PolynomialFeatures(degree=3, include_bias=False, interaction_only=True)\n",
        "    features_interaction = interaction.fit_transform(X_train[train_index])\n",
        "    test_interaction = interaction.transform(X_train[test_index])\n",
        "    # Ridge 모델 훈련\n",
        "    ElasticNet_model = ElasticNet(normalize = True, alpha = 0.1)\n",
        "    ElasticNet_model.fit(features_interaction, y_train[train_index])\n",
        "    pred = ElasticNet_model.predict(test_interaction)\n",
        "    scores.append(mae(y_train[test_index], pred))\n",
        "\n",
        "Poly_ElasticNet_normal_cv_mae = np.mean(scores)\n",
        "print('Poly_ElasticNet_normal_cv_mae, degree  = 3,  normalize = True')\n",
        "print(f'Poly_ElasticNet_normal_cv_mae = {Poly_ElasticNet_normal_cv_mae}\\n')"
      ],
      "execution_count": null,
      "outputs": [
        {
          "output_type": "stream",
          "text": [
            "Poly_ElasticNet_cv_mae, degree  = 3,  normalize = False\n",
            "Poly_ElasticNet_cv_mae = 17.245868682861328\n",
            "\n",
            "Poly_ElasticNet_normal_cv_mae, degree  = 3,  normalize = True\n",
            "Poly_ElasticNet_normal_cv_mae = 18.111082077026367\n",
            "\n"
          ],
          "name": "stdout"
        }
      ]
    },
    {
      "cell_type": "markdown",
      "metadata": {
        "id": "DeA8Bw3VluWH",
        "colab_type": "text"
      },
      "source": [
        "## SVM\n",
        "다시 돌려야 함"
      ]
    },
    {
      "cell_type": "code",
      "metadata": {
        "id": "G8Aq6iyOq_ub",
        "colab_type": "code",
        "colab": {
          "base_uri": "https://localhost:8080/",
          "height": 1000
        },
        "outputId": "67de2a09-fe14-4080-c4d1-39b4553176a9"
      },
      "source": [
        "from sklearn.model_selection import GridSearchCV\n",
        "from sklearn.svm import SVR\n",
        "\n",
        "param_grid = {'C': [0.1,1,10], 'kernel': ['rbf', 'poly', 'sigmoid']}\n",
        "grid_svr = GridSearchCV(SVR(), param_grid, refit=True, verbose=2)\n",
        "grid_svr.fit(X_train, y_train)"
      ],
      "execution_count": null,
      "outputs": [
        {
          "output_type": "stream",
          "text": [
            "Fitting 5 folds for each of 9 candidates, totalling 45 fits\n",
            "[CV] C=0.1, kernel=rbf ...............................................\n"
          ],
          "name": "stdout"
        },
        {
          "output_type": "stream",
          "text": [
            "[Parallel(n_jobs=1)]: Using backend SequentialBackend with 1 concurrent workers.\n"
          ],
          "name": "stderr"
        },
        {
          "output_type": "stream",
          "text": [
            "[CV] ................................ C=0.1, kernel=rbf, total=   4.8s\n",
            "[CV] C=0.1, kernel=rbf ...............................................\n"
          ],
          "name": "stdout"
        },
        {
          "output_type": "stream",
          "text": [
            "[Parallel(n_jobs=1)]: Done   1 out of   1 | elapsed:    4.8s remaining:    0.0s\n"
          ],
          "name": "stderr"
        },
        {
          "output_type": "stream",
          "text": [
            "[CV] ................................ C=0.1, kernel=rbf, total=   4.8s\n",
            "[CV] C=0.1, kernel=rbf ...............................................\n",
            "[CV] ................................ C=0.1, kernel=rbf, total=   4.7s\n",
            "[CV] C=0.1, kernel=rbf ...............................................\n",
            "[CV] ................................ C=0.1, kernel=rbf, total=   4.8s\n",
            "[CV] C=0.1, kernel=rbf ...............................................\n",
            "[CV] ................................ C=0.1, kernel=rbf, total=   4.8s\n",
            "[CV] C=0.1, kernel=poly ..............................................\n",
            "[CV] ............................... C=0.1, kernel=poly, total=   3.2s\n",
            "[CV] C=0.1, kernel=poly ..............................................\n",
            "[CV] ............................... C=0.1, kernel=poly, total=   3.2s\n",
            "[CV] C=0.1, kernel=poly ..............................................\n",
            "[CV] ............................... C=0.1, kernel=poly, total=   3.2s\n",
            "[CV] C=0.1, kernel=poly ..............................................\n",
            "[CV] ............................... C=0.1, kernel=poly, total=   3.1s\n",
            "[CV] C=0.1, kernel=poly ..............................................\n",
            "[CV] ............................... C=0.1, kernel=poly, total=   3.1s\n",
            "[CV] C=0.1, kernel=sigmoid ...........................................\n",
            "[CV] ............................ C=0.1, kernel=sigmoid, total=   5.4s\n",
            "[CV] C=0.1, kernel=sigmoid ...........................................\n",
            "[CV] ............................ C=0.1, kernel=sigmoid, total=   5.4s\n",
            "[CV] C=0.1, kernel=sigmoid ...........................................\n",
            "[CV] ............................ C=0.1, kernel=sigmoid, total=   5.3s\n",
            "[CV] C=0.1, kernel=sigmoid ...........................................\n",
            "[CV] ............................ C=0.1, kernel=sigmoid, total=   5.3s\n",
            "[CV] C=0.1, kernel=sigmoid ...........................................\n",
            "[CV] ............................ C=0.1, kernel=sigmoid, total=   5.4s\n",
            "[CV] C=1, kernel=rbf .................................................\n",
            "[CV] .................................. C=1, kernel=rbf, total=   4.7s\n",
            "[CV] C=1, kernel=rbf .................................................\n",
            "[CV] .................................. C=1, kernel=rbf, total=   4.7s\n",
            "[CV] C=1, kernel=rbf .................................................\n",
            "[CV] .................................. C=1, kernel=rbf, total=   4.8s\n",
            "[CV] C=1, kernel=rbf .................................................\n",
            "[CV] .................................. C=1, kernel=rbf, total=   4.7s\n",
            "[CV] C=1, kernel=rbf .................................................\n",
            "[CV] .................................. C=1, kernel=rbf, total=   4.7s\n",
            "[CV] C=1, kernel=poly ................................................\n",
            "[CV] ................................. C=1, kernel=poly, total=   4.0s\n",
            "[CV] C=1, kernel=poly ................................................\n",
            "[CV] ................................. C=1, kernel=poly, total=   4.3s\n",
            "[CV] C=1, kernel=poly ................................................\n",
            "[CV] ................................. C=1, kernel=poly, total=   3.5s\n",
            "[CV] C=1, kernel=poly ................................................\n",
            "[CV] ................................. C=1, kernel=poly, total=   3.3s\n",
            "[CV] C=1, kernel=poly ................................................\n",
            "[CV] ................................. C=1, kernel=poly, total=   3.3s\n",
            "[CV] C=1, kernel=sigmoid .............................................\n",
            "[CV] .............................. C=1, kernel=sigmoid, total=   5.5s\n",
            "[CV] C=1, kernel=sigmoid .............................................\n",
            "[CV] .............................. C=1, kernel=sigmoid, total=   5.5s\n",
            "[CV] C=1, kernel=sigmoid .............................................\n",
            "[CV] .............................. C=1, kernel=sigmoid, total=   5.4s\n",
            "[CV] C=1, kernel=sigmoid .............................................\n",
            "[CV] .............................. C=1, kernel=sigmoid, total=   5.4s\n",
            "[CV] C=1, kernel=sigmoid .............................................\n",
            "[CV] .............................. C=1, kernel=sigmoid, total=   5.4s\n",
            "[CV] C=10, kernel=rbf ................................................\n",
            "[CV] ................................. C=10, kernel=rbf, total=   4.7s\n",
            "[CV] C=10, kernel=rbf ................................................\n",
            "[CV] ................................. C=10, kernel=rbf, total=   4.7s\n",
            "[CV] C=10, kernel=rbf ................................................\n",
            "[CV] ................................. C=10, kernel=rbf, total=   4.7s\n",
            "[CV] C=10, kernel=rbf ................................................\n",
            "[CV] ................................. C=10, kernel=rbf, total=   4.7s\n",
            "[CV] C=10, kernel=rbf ................................................\n",
            "[CV] ................................. C=10, kernel=rbf, total=   4.7s\n",
            "[CV] C=10, kernel=poly ...............................................\n",
            "[CV] ................................ C=10, kernel=poly, total=   3.8s\n",
            "[CV] C=10, kernel=poly ...............................................\n",
            "[CV] ................................ C=10, kernel=poly, total=   3.8s\n",
            "[CV] C=10, kernel=poly ...............................................\n",
            "[CV] ................................ C=10, kernel=poly, total=   3.7s\n",
            "[CV] C=10, kernel=poly ...............................................\n",
            "[CV] ................................ C=10, kernel=poly, total=   3.9s\n",
            "[CV] C=10, kernel=poly ...............................................\n",
            "[CV] ................................ C=10, kernel=poly, total=   3.7s\n",
            "[CV] C=10, kernel=sigmoid ............................................\n",
            "[CV] ............................. C=10, kernel=sigmoid, total=   5.4s\n",
            "[CV] C=10, kernel=sigmoid ............................................\n",
            "[CV] ............................. C=10, kernel=sigmoid, total=   5.4s\n",
            "[CV] C=10, kernel=sigmoid ............................................\n",
            "[CV] ............................. C=10, kernel=sigmoid, total=   5.4s\n",
            "[CV] C=10, kernel=sigmoid ............................................\n",
            "[CV] ............................. C=10, kernel=sigmoid, total=   5.5s\n",
            "[CV] C=10, kernel=sigmoid ............................................\n",
            "[CV] ............................. C=10, kernel=sigmoid, total=   5.5s\n"
          ],
          "name": "stdout"
        },
        {
          "output_type": "stream",
          "text": [
            "[Parallel(n_jobs=1)]: Done  45 out of  45 | elapsed:  3.4min finished\n"
          ],
          "name": "stderr"
        },
        {
          "output_type": "execute_result",
          "data": {
            "text/plain": [
              "GridSearchCV(cv=None, error_score=nan,\n",
              "             estimator=SVR(C=1.0, cache_size=200, coef0=0.0, degree=3,\n",
              "                           epsilon=0.1, gamma='scale', kernel='rbf',\n",
              "                           max_iter=-1, shrinking=True, tol=0.001,\n",
              "                           verbose=False),\n",
              "             iid='deprecated', n_jobs=None,\n",
              "             param_grid={'C': [0.1, 1, 10],\n",
              "                         'kernel': ['rbf', 'poly', 'sigmoid']},\n",
              "             pre_dispatch='2*n_jobs', refit=True, return_train_score=False,\n",
              "             scoring=None, verbose=2)"
            ]
          },
          "metadata": {
            "tags": []
          },
          "execution_count": 11
        }
      ]
    },
    {
      "cell_type": "code",
      "metadata": {
        "id": "ueFsoZkZnJsP",
        "colab_type": "code",
        "colab": {
          "base_uri": "https://localhost:8080/",
          "height": 87
        },
        "outputId": "8457f6fd-7f02-4657-bc5f-4d93f3ec9127"
      },
      "source": [
        "# best parameter 적용\n",
        "from sklearn.model_selection import KFold\n",
        "\n",
        "kf = KFold(n_splits=5)\n",
        "scores = []\n",
        "for train_index, test_index in kf.split(X_train):\n",
        "    svr = SVR(C = grid_svr.best_params_['C'],\n",
        "              kernel = grid_svr.best_params_['kernel'],\n",
        "              verbose = True)\n",
        "    svr.fit(X_train[train_index], y_train[train_index])\n",
        "    pred = svr.predict(X_train[test_index])\n",
        "    scores.append(mae(y_train[test_index], pred))\n",
        "\n",
        "SVR_cv_mae = np.mean(scores)\n",
        "print('\\nSVR, C = {0}, kernel = {1}'.format(grid_svr.best_params_['C'], grid_svr.best_params_['kernel']))\n",
        "print(f'SVR cv_mae_score = {SVR_cv_mae}\\n')"
      ],
      "execution_count": null,
      "outputs": [
        {
          "output_type": "stream",
          "text": [
            "[LibSVM][LibSVM][LibSVM][LibSVM][LibSVM]\n",
            "SVR, C = 10, kernel = poly\n",
            "SVR cv_mae_score = 15.774814580651693\n",
            "\n"
          ],
          "name": "stdout"
        }
      ]
    },
    {
      "cell_type": "code",
      "metadata": {
        "id": "aMkzYTDoYFT7",
        "colab_type": "code",
        "colab": {}
      },
      "source": [
        "# normalize 비교\n"
      ],
      "execution_count": null,
      "outputs": []
    },
    {
      "cell_type": "markdown",
      "metadata": {
        "id": "R7an5UGSef_m",
        "colab_type": "text"
      },
      "source": [
        "## Decision Tree\n",
        "다시 돌려야 함"
      ]
    },
    {
      "cell_type": "code",
      "metadata": {
        "id": "5t0Xap5N0CM1",
        "colab_type": "code",
        "colab": {
          "base_uri": "https://localhost:8080/",
          "height": 1000
        },
        "outputId": "b1dd6d81-eb23-4ecf-bf8d-676492a549e0"
      },
      "source": [
        "from sklearn.tree import DecisionTreeRegressor\n",
        "\n",
        "param_grid = {'max_depth' : range(2,6)}\n",
        "gs_tree = GridSearchCV(DecisionTreeRegressor(criterion='mae'), param_grid, refit=True, verbose=2)\n",
        "gs_tree.fit(X_train, y_train)"
      ],
      "execution_count": null,
      "outputs": [
        {
          "output_type": "stream",
          "text": [
            "Fitting 5 folds for each of 9 candidates, totalling 45 fits\n",
            "[CV] max_depth=2 .....................................................\n"
          ],
          "name": "stdout"
        },
        {
          "output_type": "stream",
          "text": [
            "[Parallel(n_jobs=1)]: Using backend SequentialBackend with 1 concurrent workers.\n"
          ],
          "name": "stderr"
        },
        {
          "output_type": "stream",
          "text": [
            "[CV] ...................................... max_depth=2, total=   3.3s\n",
            "[CV] max_depth=2 .....................................................\n"
          ],
          "name": "stdout"
        },
        {
          "output_type": "stream",
          "text": [
            "[Parallel(n_jobs=1)]: Done   1 out of   1 | elapsed:    3.3s remaining:    0.0s\n"
          ],
          "name": "stderr"
        },
        {
          "output_type": "stream",
          "text": [
            "[CV] ...................................... max_depth=2, total=   3.3s\n",
            "[CV] max_depth=2 .....................................................\n",
            "[CV] ...................................... max_depth=2, total=   3.3s\n",
            "[CV] max_depth=2 .....................................................\n",
            "[CV] ...................................... max_depth=2, total=   3.3s\n",
            "[CV] max_depth=2 .....................................................\n",
            "[CV] ...................................... max_depth=2, total=   3.3s\n",
            "[CV] max_depth=3 .....................................................\n",
            "[CV] ...................................... max_depth=3, total=   4.3s\n",
            "[CV] max_depth=3 .....................................................\n",
            "[CV] ...................................... max_depth=3, total=   4.2s\n",
            "[CV] max_depth=3 .....................................................\n",
            "[CV] ...................................... max_depth=3, total=   4.2s\n",
            "[CV] max_depth=3 .....................................................\n",
            "[CV] ...................................... max_depth=3, total=   4.2s\n",
            "[CV] max_depth=3 .....................................................\n",
            "[CV] ...................................... max_depth=3, total=   4.3s\n",
            "[CV] max_depth=4 .....................................................\n",
            "[CV] ...................................... max_depth=4, total=   5.1s\n",
            "[CV] max_depth=4 .....................................................\n",
            "[CV] ...................................... max_depth=4, total=   4.9s\n",
            "[CV] max_depth=4 .....................................................\n",
            "[CV] ...................................... max_depth=4, total=   4.9s\n",
            "[CV] max_depth=4 .....................................................\n",
            "[CV] ...................................... max_depth=4, total=   4.9s\n",
            "[CV] max_depth=4 .....................................................\n",
            "[CV] ...................................... max_depth=4, total=   5.1s\n",
            "[CV] max_depth=5 .....................................................\n",
            "[CV] ...................................... max_depth=5, total=   5.8s\n",
            "[CV] max_depth=5 .....................................................\n",
            "[CV] ...................................... max_depth=5, total=   5.6s\n",
            "[CV] max_depth=5 .....................................................\n",
            "[CV] ...................................... max_depth=5, total=   5.5s\n",
            "[CV] max_depth=5 .....................................................\n",
            "[CV] ...................................... max_depth=5, total=   5.6s\n",
            "[CV] max_depth=5 .....................................................\n",
            "[CV] ...................................... max_depth=5, total=   5.7s\n",
            "[CV] max_depth=6 .....................................................\n",
            "[CV] ...................................... max_depth=6, total=   6.2s\n",
            "[CV] max_depth=6 .....................................................\n",
            "[CV] ...................................... max_depth=6, total=   6.1s\n",
            "[CV] max_depth=6 .....................................................\n",
            "[CV] ...................................... max_depth=6, total=   5.8s\n",
            "[CV] max_depth=6 .....................................................\n",
            "[CV] ...................................... max_depth=6, total=   6.0s\n",
            "[CV] max_depth=6 .....................................................\n",
            "[CV] ...................................... max_depth=6, total=   6.2s\n",
            "[CV] max_depth=7 .....................................................\n",
            "[CV] ...................................... max_depth=7, total=   6.5s\n",
            "[CV] max_depth=7 .....................................................\n",
            "[CV] ...................................... max_depth=7, total=   6.7s\n",
            "[CV] max_depth=7 .....................................................\n",
            "[CV] ...................................... max_depth=7, total=   6.2s\n",
            "[CV] max_depth=7 .....................................................\n",
            "[CV] ...................................... max_depth=7, total=   6.3s\n",
            "[CV] max_depth=7 .....................................................\n",
            "[CV] ...................................... max_depth=7, total=   6.5s\n",
            "[CV] max_depth=8 .....................................................\n",
            "[CV] ...................................... max_depth=8, total=   6.7s\n",
            "[CV] max_depth=8 .....................................................\n",
            "[CV] ...................................... max_depth=8, total=   6.8s\n",
            "[CV] max_depth=8 .....................................................\n",
            "[CV] ...................................... max_depth=8, total=   6.4s\n",
            "[CV] max_depth=8 .....................................................\n",
            "[CV] ...................................... max_depth=8, total=   6.5s\n",
            "[CV] max_depth=8 .....................................................\n",
            "[CV] ...................................... max_depth=8, total=   6.7s\n",
            "[CV] max_depth=9 .....................................................\n",
            "[CV] ...................................... max_depth=9, total=   7.0s\n",
            "[CV] max_depth=9 .....................................................\n",
            "[CV] ...................................... max_depth=9, total=   7.1s\n",
            "[CV] max_depth=9 .....................................................\n",
            "[CV] ...................................... max_depth=9, total=   6.7s\n",
            "[CV] max_depth=9 .....................................................\n",
            "[CV] ...................................... max_depth=9, total=   6.7s\n",
            "[CV] max_depth=9 .....................................................\n",
            "[CV] ...................................... max_depth=9, total=   7.0s\n",
            "[CV] max_depth=10 ....................................................\n",
            "[CV] ..................................... max_depth=10, total=   7.2s\n",
            "[CV] max_depth=10 ....................................................\n",
            "[CV] ..................................... max_depth=10, total=   7.3s\n",
            "[CV] max_depth=10 ....................................................\n",
            "[CV] ..................................... max_depth=10, total=   6.9s\n",
            "[CV] max_depth=10 ....................................................\n",
            "[CV] ..................................... max_depth=10, total=   7.1s\n",
            "[CV] max_depth=10 ....................................................\n",
            "[CV] ..................................... max_depth=10, total=   7.2s\n"
          ],
          "name": "stdout"
        },
        {
          "output_type": "stream",
          "text": [
            "[Parallel(n_jobs=1)]: Done  45 out of  45 | elapsed:  4.3min finished\n"
          ],
          "name": "stderr"
        },
        {
          "output_type": "execute_result",
          "data": {
            "text/plain": [
              "GridSearchCV(cv=None, error_score=nan,\n",
              "             estimator=DecisionTreeRegressor(ccp_alpha=0.0, criterion='mae',\n",
              "                                             max_depth=None, max_features=None,\n",
              "                                             max_leaf_nodes=None,\n",
              "                                             min_impurity_decrease=0.0,\n",
              "                                             min_impurity_split=None,\n",
              "                                             min_samples_leaf=1,\n",
              "                                             min_samples_split=2,\n",
              "                                             min_weight_fraction_leaf=0.0,\n",
              "                                             presort='deprecated',\n",
              "                                             random_state=None,\n",
              "                                             splitter='best'),\n",
              "             iid='deprecated', n_jobs=None,\n",
              "             param_grid={'max_depth': range(2, 11)}, pre_dispatch='2*n_jobs',\n",
              "             refit=True, return_train_score=False, scoring=None, verbose=2)"
            ]
          },
          "metadata": {
            "tags": []
          },
          "execution_count": 23
        }
      ]
    },
    {
      "cell_type": "code",
      "metadata": {
        "id": "khfWIrh24aez",
        "colab_type": "code",
        "colab": {}
      },
      "source": [
        ""
      ],
      "execution_count": null,
      "outputs": []
    },
    {
      "cell_type": "code",
      "metadata": {
        "id": "Cktc4NCH4acm",
        "colab_type": "code",
        "colab": {}
      },
      "source": [
        ""
      ],
      "execution_count": null,
      "outputs": []
    },
    {
      "cell_type": "code",
      "metadata": {
        "id": "MtNUSkMC4aZ9",
        "colab_type": "code",
        "colab": {}
      },
      "source": [
        "from sklearn.tree import DecisionTreeRegressor"
      ],
      "execution_count": null,
      "outputs": []
    },
    {
      "cell_type": "code",
      "metadata": {
        "id": "syn66KUN0pz2",
        "colab_type": "code",
        "colab": {
          "base_uri": "https://localhost:8080/",
          "height": 1000
        },
        "outputId": "b00a6196-f8c4-40c7-de4a-65e4354f10b0"
      },
      "source": [
        "from sklearn.tree import DecisionTreeRegressor\n",
        "\n",
        "param_grid = {'max_depth' : range(2,6)}\n",
        "gs_tree = GridSearchCV(DecisionTreeRegressor(criterion='mse'), param_grid, refit=True, verbose=2)\n",
        "gs_tree.fit(X_train, y_train)"
      ],
      "execution_count": null,
      "outputs": [
        {
          "output_type": "stream",
          "text": [
            "Fitting 5 folds for each of 4 candidates, totalling 20 fits\n",
            "[CV] max_depth=2 .....................................................\n",
            "[CV] ...................................... max_depth=2, total=   0.0s\n",
            "[CV] max_depth=2 .....................................................\n",
            "[CV] ...................................... max_depth=2, total=   0.0s\n",
            "[CV] max_depth=2 .....................................................\n",
            "[CV] ...................................... max_depth=2, total=   0.0s\n",
            "[CV] max_depth=2 .....................................................\n",
            "[CV] ...................................... max_depth=2, total=   0.0s\n",
            "[CV] max_depth=2 .....................................................\n",
            "[CV] ...................................... max_depth=2, total=   0.0s\n",
            "[CV] max_depth=3 .....................................................\n",
            "[CV] ...................................... max_depth=3, total=   0.0s\n",
            "[CV] max_depth=3 .....................................................\n"
          ],
          "name": "stdout"
        },
        {
          "output_type": "stream",
          "text": [
            "[Parallel(n_jobs=1)]: Using backend SequentialBackend with 1 concurrent workers.\n",
            "[Parallel(n_jobs=1)]: Done   1 out of   1 | elapsed:    0.0s remaining:    0.0s\n"
          ],
          "name": "stderr"
        },
        {
          "output_type": "stream",
          "text": [
            "[CV] ...................................... max_depth=3, total=   0.0s\n",
            "[CV] max_depth=3 .....................................................\n",
            "[CV] ...................................... max_depth=3, total=   0.0s\n",
            "[CV] max_depth=3 .....................................................\n",
            "[CV] ...................................... max_depth=3, total=   0.0s\n",
            "[CV] max_depth=3 .....................................................\n",
            "[CV] ...................................... max_depth=3, total=   0.0s\n",
            "[CV] max_depth=4 .....................................................\n",
            "[CV] ...................................... max_depth=4, total=   0.0s\n",
            "[CV] max_depth=4 .....................................................\n",
            "[CV] ...................................... max_depth=4, total=   0.0s\n",
            "[CV] max_depth=4 .....................................................\n",
            "[CV] ...................................... max_depth=4, total=   0.0s\n",
            "[CV] max_depth=4 .....................................................\n",
            "[CV] ...................................... max_depth=4, total=   0.1s\n",
            "[CV] max_depth=4 .....................................................\n",
            "[CV] ...................................... max_depth=4, total=   0.0s\n",
            "[CV] max_depth=5 .....................................................\n",
            "[CV] ...................................... max_depth=5, total=   0.1s\n",
            "[CV] max_depth=5 .....................................................\n",
            "[CV] ...................................... max_depth=5, total=   0.1s\n",
            "[CV] max_depth=5 .....................................................\n",
            "[CV] ...................................... max_depth=5, total=   0.1s\n",
            "[CV] max_depth=5 .....................................................\n",
            "[CV] ...................................... max_depth=5, total=   0.1s\n",
            "[CV] max_depth=5 .....................................................\n",
            "[CV] ...................................... max_depth=5, total=   0.1s\n"
          ],
          "name": "stdout"
        },
        {
          "output_type": "stream",
          "text": [
            "[Parallel(n_jobs=1)]: Done  20 out of  20 | elapsed:    0.9s finished\n"
          ],
          "name": "stderr"
        },
        {
          "output_type": "execute_result",
          "data": {
            "text/plain": [
              "GridSearchCV(cv=None, error_score=nan,\n",
              "             estimator=DecisionTreeRegressor(ccp_alpha=0.0, criterion='mse',\n",
              "                                             max_depth=None, max_features=None,\n",
              "                                             max_leaf_nodes=None,\n",
              "                                             min_impurity_decrease=0.0,\n",
              "                                             min_impurity_split=None,\n",
              "                                             min_samples_leaf=1,\n",
              "                                             min_samples_split=2,\n",
              "                                             min_weight_fraction_leaf=0.0,\n",
              "                                             presort='deprecated',\n",
              "                                             random_state=None,\n",
              "                                             splitter='best'),\n",
              "             iid='deprecated', n_jobs=None,\n",
              "             param_grid={'max_depth': range(2, 6)}, pre_dispatch='2*n_jobs',\n",
              "             refit=True, return_train_score=False, scoring=None, verbose=2)"
            ]
          },
          "metadata": {
            "tags": []
          },
          "execution_count": 25
        }
      ]
    },
    {
      "cell_type": "code",
      "metadata": {
        "id": "V4jTgsj15bNU",
        "colab_type": "code",
        "colab": {
          "base_uri": "https://localhost:8080/",
          "height": 70
        },
        "outputId": "9caa7fcb-4814-4f11-f3d3-aa18265a080e"
      },
      "source": [
        "# best parameter 적용\n",
        "kf = KFold(n_splits=5)\n",
        "scores = []\n",
        "for train_index, test_index in kf.split(X_train):\n",
        "    tree = DecisionTreeRegressor(criterion='mse',\n",
        "                                 max_depth = gs_tree.best_params_['max_depth'])\n",
        "    tree.fit(X_train[train_index], y_train[train_index])\n",
        "    pred = tree.predict(X_train[test_index])\n",
        "    scores.append(mae(y_train[test_index], pred))\n",
        "\n",
        "Decision_Tree_cv_mae = np.mean(scores)\n",
        "print('Decision Tree Regressor, max_depth = {}'.format(gs_tree.best_params_['max_depth']))\n",
        "print(f'Decision Tree Regressor cv_mae_score = {Decision_Tree_cv_mae}\\n')"
      ],
      "execution_count": null,
      "outputs": [
        {
          "output_type": "stream",
          "text": [
            "Decision Tree Regressor, max_depth = 3\n",
            "Decision Tree Regressor cv_mae_score = 17.596215517953517\n",
            "\n"
          ],
          "name": "stdout"
        }
      ]
    },
    {
      "cell_type": "code",
      "metadata": {
        "id": "AxM78yicx1Zk",
        "colab_type": "code",
        "colab": {}
      },
      "source": [
        "import pickle\n",
        "filename = '/content/drive/My Drive/2020 Kaggle Study/deagwon/randomforest_grid.sav'\n",
        "gs_tree = pickle.load(open(filename, 'rb'))"
      ],
      "execution_count": null,
      "outputs": []
    },
    {
      "cell_type": "code",
      "metadata": {
        "id": "4Jo19d60y7lM",
        "colab_type": "code",
        "colab": {
          "base_uri": "https://localhost:8080/",
          "height": 316
        },
        "outputId": "9c969e7a-6deb-480b-fd4a-5daa2da35729"
      },
      "source": [
        "gs_tree"
      ],
      "execution_count": null,
      "outputs": [
        {
          "output_type": "execute_result",
          "data": {
            "text/plain": [
              "GridSearchCV(cv=None, error_score=nan,\n",
              "             estimator=RandomForestRegressor(bootstrap=True, ccp_alpha=0.0,\n",
              "                                             criterion='mae', max_depth=None,\n",
              "                                             max_features='auto',\n",
              "                                             max_leaf_nodes=None,\n",
              "                                             max_samples=None,\n",
              "                                             min_impurity_decrease=0.0,\n",
              "                                             min_impurity_split=None,\n",
              "                                             min_samples_leaf=1,\n",
              "                                             min_samples_split=2,\n",
              "                                             min_weight_fraction_leaf=0.0,\n",
              "                                             n_estimators=100, n_jobs=None,\n",
              "                                             oob_score=False, random_state=None,\n",
              "                                             verbose=0, warm_start=False),\n",
              "             iid='deprecated', n_jobs=None,\n",
              "             param_grid={'max_depth': range(2, 11)}, pre_dispatch='2*n_jobs',\n",
              "             refit=True, return_train_score=False, scoring=None, verbose=2)"
            ]
          },
          "metadata": {
            "tags": []
          },
          "execution_count": 8
        }
      ]
    },
    {
      "cell_type": "code",
      "metadata": {
        "id": "d33jjGdCy-fb",
        "colab_type": "code",
        "colab": {}
      },
      "source": [
        "gs_tree??"
      ],
      "execution_count": null,
      "outputs": []
    },
    {
      "cell_type": "code",
      "metadata": {
        "id": "k-oaYUWv69Y6",
        "colab_type": "code",
        "colab": {
          "base_uri": "https://localhost:8080/",
          "height": 34
        },
        "outputId": "af385d77-c894-40ed-b1f2-ce51b5902ed7"
      },
      "source": [
        "gs_tree.cv_results_['mean_test_score']"
      ],
      "execution_count": null,
      "outputs": [
        {
          "output_type": "execute_result",
          "data": {
            "text/plain": [
              "array([0.02933851, 0.03275459, 0.03250742, 0.02580724])"
            ]
          },
          "metadata": {
            "tags": []
          },
          "execution_count": 30
        }
      ]
    },
    {
      "cell_type": "code",
      "metadata": {
        "id": "-5Be_pLt81GH",
        "colab_type": "code",
        "colab": {
          "base_uri": "https://localhost:8080/",
          "height": 34
        },
        "outputId": "c746675f-a0a0-4a2e-95f5-de4b9626db13"
      },
      "source": [
        "np.sqrt(gs_tree.cv_results_['mean_test_score'])"
      ],
      "execution_count": null,
      "outputs": [
        {
          "output_type": "execute_result",
          "data": {
            "text/plain": [
              "array([0.17128489, 0.18098229, 0.18029813, 0.16064632])"
            ]
          },
          "metadata": {
            "tags": []
          },
          "execution_count": 36
        }
      ]
    },
    {
      "cell_type": "code",
      "metadata": {
        "id": "ARmn1Iq6kU3O",
        "colab_type": "code",
        "colab": {
          "base_uri": "https://localhost:8080/",
          "height": 295
        },
        "outputId": "16015ff1-4ce7-41f4-c7a5-8d29ada8fa64"
      },
      "source": [
        "plt.plot(range(2,6), gs_tree.cv_results_['mean_test_score'])\n",
        "plt.title('Decision Tree Regressor')\n",
        "plt.xlabel('max depth')\n",
        "plt.ylabel('cv mean test score')\n",
        "plt.show()"
      ],
      "execution_count": null,
      "outputs": [
        {
          "output_type": "display_data",
          "data": {
            "image/png": "[encoded data removed]",
            "text/plain": [
              "<Figure size 432x288 with 1 Axes>"
            ]
          },
          "metadata": {
            "tags": [],
            "needs_background": "light"
          }
        }
      ]
    },
    {
      "cell_type": "markdown",
      "metadata": {
        "id": "P-YHl84Qf5X-",
        "colab_type": "text"
      },
      "source": [
        "## Random Forest\n",
        "배깅을 적용한 decision tree의 앙상블\n",
        "\n",
        "(겁나 오래 걸림)"
      ]
    },
    {
      "cell_type": "code",
      "metadata": {
        "id": "Sn5u6kXW87f9",
        "colab_type": "code",
        "colab": {
          "base_uri": "https://localhost:8080/",
          "height": 1000
        },
        "outputId": "888e64f1-d9ca-47c1-a660-54cfabf7a921"
      },
      "source": [
        "from sklearn.ensemble import RandomForestRegressor\n",
        "\n",
        "param_grid = {'max_depth' : range(2,11)}\n",
        "gs_rf = GridSearchCV(RandomForestRegressor(criterion='mae'), param_grid, refit=True, verbose=2)\n",
        "gs_rf.fit(X_train, y_train)"
      ],
      "execution_count": null,
      "outputs": [
        {
          "output_type": "stream",
          "text": [
            "Fitting 5 folds for each of 9 candidates, totalling 45 fits\n",
            "[CV] max_depth=2 .....................................................\n"
          ],
          "name": "stdout"
        },
        {
          "output_type": "stream",
          "text": [
            "[Parallel(n_jobs=1)]: Using backend SequentialBackend with 1 concurrent workers.\n"
          ],
          "name": "stderr"
        },
        {
          "output_type": "stream",
          "text": [
            "[CV] ...................................... max_depth=2, total= 2.2min\n",
            "[CV] max_depth=2 .....................................................\n"
          ],
          "name": "stdout"
        },
        {
          "output_type": "stream",
          "text": [
            "[Parallel(n_jobs=1)]: Done   1 out of   1 | elapsed:  2.2min remaining:    0.0s\n"
          ],
          "name": "stderr"
        },
        {
          "output_type": "stream",
          "text": [
            "[CV] ...................................... max_depth=2, total= 2.2min\n",
            "[CV] max_depth=2 .....................................................\n",
            "[CV] ...................................... max_depth=2, total= 2.1min\n",
            "[CV] max_depth=2 .....................................................\n",
            "[CV] ...................................... max_depth=2, total= 2.1min\n",
            "[CV] max_depth=2 .....................................................\n",
            "[CV] ...................................... max_depth=2, total= 2.1min\n",
            "[CV] max_depth=3 .....................................................\n",
            "[CV] ...................................... max_depth=3, total= 2.8min\n",
            "[CV] max_depth=3 .....................................................\n",
            "[CV] ...................................... max_depth=3, total= 2.7min\n",
            "[CV] max_depth=3 .....................................................\n",
            "[CV] ...................................... max_depth=3, total= 2.7min\n",
            "[CV] max_depth=3 .....................................................\n",
            "[CV] ...................................... max_depth=3, total= 2.7min\n",
            "[CV] max_depth=3 .....................................................\n",
            "[CV] ...................................... max_depth=3, total= 2.7min\n",
            "[CV] max_depth=4 .....................................................\n",
            "[CV] ...................................... max_depth=4, total= 3.2min\n",
            "[CV] max_depth=4 .....................................................\n",
            "[CV] ...................................... max_depth=4, total= 3.2min\n",
            "[CV] max_depth=4 .....................................................\n",
            "[CV] ...................................... max_depth=4, total= 3.3min\n",
            "[CV] max_depth=4 .....................................................\n",
            "[CV] ...................................... max_depth=4, total= 3.2min\n",
            "[CV] max_depth=4 .....................................................\n",
            "[CV] ...................................... max_depth=4, total= 3.1min\n",
            "[CV] max_depth=5 .....................................................\n",
            "[CV] ...................................... max_depth=5, total= 3.7min\n",
            "[CV] max_depth=5 .....................................................\n",
            "[CV] ...................................... max_depth=5, total= 3.6min\n",
            "[CV] max_depth=5 .....................................................\n",
            "[CV] ...................................... max_depth=5, total= 3.7min\n",
            "[CV] max_depth=5 .....................................................\n",
            "[CV] ...................................... max_depth=5, total= 3.6min\n",
            "[CV] max_depth=5 .....................................................\n",
            "[CV] ...................................... max_depth=5, total= 3.5min\n",
            "[CV] max_depth=6 .....................................................\n",
            "[CV] ...................................... max_depth=6, total= 4.0min\n",
            "[CV] max_depth=6 .....................................................\n",
            "[CV] ...................................... max_depth=6, total= 3.9min\n",
            "[CV] max_depth=6 .....................................................\n",
            "[CV] ...................................... max_depth=6, total= 3.9min\n",
            "[CV] max_depth=6 .....................................................\n",
            "[CV] ...................................... max_depth=6, total= 3.9min\n",
            "[CV] max_depth=6 .....................................................\n",
            "[CV] ...................................... max_depth=6, total= 3.8min\n",
            "[CV] max_depth=7 .....................................................\n",
            "[CV] ...................................... max_depth=7, total= 4.1min\n",
            "[CV] max_depth=7 .....................................................\n",
            "[CV] ...................................... max_depth=7, total= 4.2min\n",
            "[CV] max_depth=7 .....................................................\n",
            "[CV] ...................................... max_depth=7, total= 4.1min\n",
            "[CV] max_depth=7 .....................................................\n",
            "[CV] ...................................... max_depth=7, total= 4.1min\n",
            "[CV] max_depth=7 .....................................................\n",
            "[CV] ...................................... max_depth=7, total= 4.0min\n",
            "[CV] max_depth=8 .....................................................\n",
            "[CV] ...................................... max_depth=8, total= 4.3min\n",
            "[CV] max_depth=8 .....................................................\n",
            "[CV] ...................................... max_depth=8, total= 4.4min\n",
            "[CV] max_depth=8 .....................................................\n",
            "[CV] ...................................... max_depth=8, total= 4.3min\n",
            "[CV] max_depth=8 .....................................................\n",
            "[CV] ...................................... max_depth=8, total= 4.4min\n",
            "[CV] max_depth=8 .....................................................\n",
            "[CV] ...................................... max_depth=8, total= 4.3min\n",
            "[CV] max_depth=9 .....................................................\n",
            "[CV] ...................................... max_depth=9, total= 4.7min\n",
            "[CV] max_depth=9 .....................................................\n",
            "[CV] ...................................... max_depth=9, total= 4.6min\n",
            "[CV] max_depth=9 .....................................................\n",
            "[CV] ...................................... max_depth=9, total= 4.6min\n",
            "[CV] max_depth=9 .....................................................\n",
            "[CV] ...................................... max_depth=9, total= 4.5min\n",
            "[CV] max_depth=9 .....................................................\n",
            "[CV] ...................................... max_depth=9, total= 4.4min\n",
            "[CV] max_depth=10 ....................................................\n",
            "[CV] ..................................... max_depth=10, total= 4.8min\n",
            "[CV] max_depth=10 ....................................................\n",
            "[CV] ..................................... max_depth=10, total= 4.8min\n",
            "[CV] max_depth=10 ....................................................\n",
            "[CV] ..................................... max_depth=10, total= 4.9min\n",
            "[CV] max_depth=10 ....................................................\n",
            "[CV] ..................................... max_depth=10, total= 4.8min\n",
            "[CV] max_depth=10 ....................................................\n",
            "[CV] ..................................... max_depth=10, total= 4.8min\n"
          ],
          "name": "stdout"
        },
        {
          "output_type": "stream",
          "text": [
            "[Parallel(n_jobs=1)]: Done  45 out of  45 | elapsed: 167.0min finished\n"
          ],
          "name": "stderr"
        },
        {
          "output_type": "execute_result",
          "data": {
            "text/plain": [
              "GridSearchCV(cv=None, error_score=nan,\n",
              "             estimator=RandomForestRegressor(bootstrap=True, ccp_alpha=0.0,\n",
              "                                             criterion='mae', max_depth=None,\n",
              "                                             max_features='auto',\n",
              "                                             max_leaf_nodes=None,\n",
              "                                             max_samples=None,\n",
              "                                             min_impurity_decrease=0.0,\n",
              "                                             min_impurity_split=None,\n",
              "                                             min_samples_leaf=1,\n",
              "                                             min_samples_split=2,\n",
              "                                             min_weight_fraction_leaf=0.0,\n",
              "                                             n_estimators=100, n_jobs=None,\n",
              "                                             oob_score=False, random_state=None,\n",
              "                                             verbose=0, warm_start=False),\n",
              "             iid='deprecated', n_jobs=None,\n",
              "             param_grid={'max_depth': range(2, 11)}, pre_dispatch='2*n_jobs',\n",
              "             refit=True, return_train_score=False, scoring=None, verbose=2)"
            ]
          },
          "metadata": {
            "tags": []
          },
          "execution_count": 36
        }
      ]
    },
    {
      "cell_type": "code",
      "metadata": {
        "id": "MKLTI-7UmvsA",
        "colab_type": "code",
        "colab": {
          "base_uri": "https://localhost:8080/",
          "height": 34
        },
        "outputId": "22728c85-f2ee-4af5-b095-1d5455c1cd2e"
      },
      "source": [
        "gs_rf.best_params_"
      ],
      "execution_count": null,
      "outputs": [
        {
          "output_type": "execute_result",
          "data": {
            "text/plain": [
              "{'max_depth': 10}"
            ]
          },
          "metadata": {
            "tags": []
          },
          "execution_count": 37
        }
      ]
    },
    {
      "cell_type": "code",
      "metadata": {
        "id": "xSMIF-Sv-v0w",
        "colab_type": "code",
        "colab": {}
      },
      "source": [
        ""
      ],
      "execution_count": null,
      "outputs": []
    },
    {
      "cell_type": "code",
      "metadata": {
        "id": "GzUuztVX-cSM",
        "colab_type": "code",
        "colab": {
          "base_uri": "https://localhost:8080/",
          "height": 222
        },
        "outputId": "f9ed0eed-4fe6-4940-a24b-b3e89e2d5ea0"
      },
      "source": [
        "from sklearn.ensemble import RandomForestRegressor\n",
        "from sklearn.metrics import fbeta_score, make_scorer\n",
        "\n",
        "def mse(y, t):\n",
        "    return -((y-t)**2).mean(axis=None)\n",
        "\n",
        "param_grid = {'max_depth' : range(2,5),\n",
        "              'n_estimators':[100,50]}\n",
        "gs_rf = GridSearchCV(RandomForestRegressor(criterion='mse'),\n",
        "                     param_grid, refit=True,\n",
        "                     verbose = 2,\n",
        "                     scoring = make_scorer(mae, greater_is_better=True))\n",
        "gs_rf.fit(X_train, y_train)"
      ],
      "execution_count": null,
      "outputs": [
        {
          "output_type": "error",
          "ename": "TypeError",
          "evalue": "ignored",
          "traceback": [
            "\u001b[0;31m---------------------------------------------------------------------------\u001b[0m",
            "\u001b[0;31mTypeError\u001b[0m                                 Traceback (most recent call last)",
            "\u001b[0;32m<ipython-input-98-70639e81dc28>\u001b[0m in \u001b[0;36m<module>\u001b[0;34m()\u001b[0m\n\u001b[1;32m     10\u001b[0m                      \u001b[0mparam_grid\u001b[0m\u001b[0;34m,\u001b[0m \u001b[0mrefit\u001b[0m\u001b[0;34m=\u001b[0m\u001b[0;32mTrue\u001b[0m\u001b[0;34m,\u001b[0m\u001b[0;34m\u001b[0m\u001b[0;34m\u001b[0m\u001b[0m\n\u001b[1;32m     11\u001b[0m                      \u001b[0mverbose\u001b[0m \u001b[0;34m=\u001b[0m \u001b[0;36m2\u001b[0m\u001b[0;34m,\u001b[0m\u001b[0;34m\u001b[0m\u001b[0;34m\u001b[0m\u001b[0m\n\u001b[0;32m---> 12\u001b[0;31m                      scoring = make_scorer(-mae, greater_is_better=True))\n\u001b[0m\u001b[1;32m     13\u001b[0m \u001b[0mgs_rf\u001b[0m\u001b[0;34m.\u001b[0m\u001b[0mfit\u001b[0m\u001b[0;34m(\u001b[0m\u001b[0mX_train\u001b[0m\u001b[0;34m,\u001b[0m \u001b[0my_train\u001b[0m\u001b[0;34m)\u001b[0m\u001b[0;34m\u001b[0m\u001b[0;34m\u001b[0m\u001b[0m\n",
            "\u001b[0;31mTypeError\u001b[0m: bad operand type for unary -: 'function'"
          ]
        }
      ]
    },
    {
      "cell_type": "code",
      "metadata": {
        "id": "QtCKZwOsRj20",
        "colab_type": "code",
        "colab": {
          "base_uri": "https://localhost:8080/",
          "height": 34
        },
        "outputId": "b2f4b974-5ed8-44c0-acdb-5ab114cf9c90"
      },
      "source": [
        "gs_rf.best_score_"
      ],
      "execution_count": null,
      "outputs": [
        {
          "output_type": "execute_result",
          "data": {
            "text/plain": [
              "-17.36442397943373"
            ]
          },
          "metadata": {
            "tags": []
          },
          "execution_count": 96
        }
      ]
    },
    {
      "cell_type": "code",
      "metadata": {
        "id": "YlJaG1VNRoYo",
        "colab_type": "code",
        "colab": {
          "base_uri": "https://localhost:8080/",
          "height": 668
        },
        "outputId": "64f50e28-ac9f-4b4d-d9dc-e444bc7a6147"
      },
      "source": [
        "gs_rf.cv_results_"
      ],
      "execution_count": null,
      "outputs": [
        {
          "output_type": "execute_result",
          "data": {
            "text/plain": [
              "{'mean_fit_time': array([1.57090693, 0.78819461, 2.22269993, 1.11790276, 2.84412808,\n",
              "        1.42814059]),\n",
              " 'mean_score_time': array([0.01069913, 0.00503597, 0.01055908, 0.0054523 , 0.01172891,\n",
              "        0.00610318]),\n",
              " 'mean_test_score': array([-17.59215508, -17.5974403 , -17.48583427, -17.48627013,\n",
              "        -17.40188622, -17.36442398]),\n",
              " 'param_max_depth': masked_array(data=[2, 2, 3, 3, 4, 4],\n",
              "              mask=[False, False, False, False, False, False],\n",
              "        fill_value='?',\n",
              "             dtype=object),\n",
              " 'param_n_estimators': masked_array(data=[100, 50, 100, 50, 100, 50],\n",
              "              mask=[False, False, False, False, False, False],\n",
              "        fill_value='?',\n",
              "             dtype=object),\n",
              " 'params': [{'max_depth': 2, 'n_estimators': 100},\n",
              "  {'max_depth': 2, 'n_estimators': 50},\n",
              "  {'max_depth': 3, 'n_estimators': 100},\n",
              "  {'max_depth': 3, 'n_estimators': 50},\n",
              "  {'max_depth': 4, 'n_estimators': 100},\n",
              "  {'max_depth': 4, 'n_estimators': 50}],\n",
              " 'rank_test_score': array([5, 6, 3, 4, 2, 1], dtype=int32),\n",
              " 'split0_test_score': array([-18.19215965, -18.19711406, -18.05275781, -18.03212128,\n",
              "        -17.95985661, -17.88686132]),\n",
              " 'split1_test_score': array([-16.81161871, -16.81997267, -16.73559115, -16.73046662,\n",
              "        -16.58991582, -16.56563116]),\n",
              " 'split2_test_score': array([-17.43041603, -17.43528957, -17.28203377, -17.29603229,\n",
              "        -17.27084926, -17.20897434]),\n",
              " 'split3_test_score': array([-17.97530856, -17.97214763, -17.88312064, -17.91129369,\n",
              "        -17.7666974 , -17.78788491]),\n",
              " 'split4_test_score': array([-17.55127246, -17.56267758, -17.47566797, -17.46143676,\n",
              "        -17.42211198, -17.37276817]),\n",
              " 'std_fit_time': array([0.00756445, 0.00341137, 0.00950148, 0.00759461, 0.00857836,\n",
              "        0.01031897]),\n",
              " 'std_score_time': array([2.93468789e-03, 1.11369971e-04, 6.83672998e-04, 6.58215968e-05,\n",
              "        8.85545976e-04, 1.09447019e-04]),\n",
              " 'std_test_score': array([0.47830534, 0.47580908, 0.46556235, 0.4661855 , 0.47355968,\n",
              "        0.47213645])}"
            ]
          },
          "metadata": {
            "tags": []
          },
          "execution_count": 97
        }
      ]
    },
    {
      "cell_type": "code",
      "metadata": {
        "id": "udTvEAfOR8WR",
        "colab_type": "code",
        "colab": {}
      },
      "source": [
        "def mse(y_true, y_pred):\n",
        "    y_true = np.array(y_true)\n",
        "    y_true = y_true.reshape(1, -1)[0]  \n",
        "    y_pred = np.array(y_pred)\n",
        "    y_pred = y_pred.reshape(1, -1)[0]\n",
        "    mse = np.mean(np.square(y_true - y_pred))\n",
        "    return mse"
      ],
      "execution_count": null,
      "outputs": []
    },
    {
      "cell_type": "code",
      "metadata": {
        "id": "vT5g3-2cSfBd",
        "colab_type": "code",
        "colab": {}
      },
      "source": [
        "def mae(y_true, y_pred):\n",
        "    y_true = np.array(y_true)\n",
        "    y_true = y_true.reshape(1, -1)[0]  \n",
        "    y_pred = np.array(y_pred)\n",
        "    y_pred = y_pred.reshape(1, -1)[0]\n",
        "    mae = np.mean(np.abs(y_true - y_pred))\n",
        "    return mae"
      ],
      "execution_count": null,
      "outputs": []
    },
    {
      "cell_type": "code",
      "metadata": {
        "id": "D5BbAcjFRPOp",
        "colab_type": "code",
        "colab": {
          "base_uri": "https://localhost:8080/",
          "height": 70
        },
        "outputId": "279368b7-940f-4356-f9e9-36f7fc6bfe05"
      },
      "source": [
        "model = gs_rf.best_estimator_\n",
        "kf = KFold(n_splits=5)\n",
        "scores = []\n",
        "for train_index, test_index in kf.split(X_train):\n",
        "    pred = model.predict(X_train[test_index])\n",
        "    scores.append(mse(y_train[test_index], pred))\n",
        "\n",
        "Random_Forest_cv_mse = np.mean(scores)\n",
        "print('Random Forest Regressor, max_depth = {}'.format(gs_rf.best_params_['max_depth']))\n",
        "print(f'Random Forest Regressor cv_mse_score = {Random_Forest_cv_mse}\\n')"
      ],
      "execution_count": null,
      "outputs": [
        {
          "output_type": "stream",
          "text": [
            "Random Forest Regressor, max_depth = 4\n",
            "Random Forest Regressor cv_mse_score = 592.4450412725931\n",
            "\n"
          ],
          "name": "stdout"
        }
      ]
    },
    {
      "cell_type": "code",
      "metadata": {
        "id": "yDASGtnWStv-",
        "colab_type": "code",
        "colab": {
          "base_uri": "https://localhost:8080/",
          "height": 34
        },
        "outputId": "07a68f28-0b25-469f-8cd7-c2648945d0ec"
      },
      "source": [
        "17*17"
      ],
      "execution_count": null,
      "outputs": [
        {
          "output_type": "execute_result",
          "data": {
            "text/plain": [
              "289"
            ]
          },
          "metadata": {
            "tags": []
          },
          "execution_count": 93
        }
      ]
    },
    {
      "cell_type": "code",
      "metadata": {
        "id": "kG35ghGc-hKV",
        "colab_type": "code",
        "colab": {
          "base_uri": "https://localhost:8080/",
          "height": 52
        },
        "outputId": "093f6977-960e-43ff-d527-52693bcc725c"
      },
      "source": [
        "gs_rf.cv_results_['mean_test_score']"
      ],
      "execution_count": null,
      "outputs": [
        {
          "output_type": "execute_result",
          "data": {
            "text/plain": [
              "array([-622.83507734, -622.80577801, -616.00837596, -616.90380138,\n",
              "       -610.8049879 , -611.16042196])"
            ]
          },
          "metadata": {
            "tags": []
          },
          "execution_count": 72
        }
      ]
    },
    {
      "cell_type": "code",
      "metadata": {
        "id": "3mHvMwSP9sJl",
        "colab_type": "code",
        "colab": {
          "base_uri": "https://localhost:8080/",
          "height": 295
        },
        "outputId": "39dfe7fb-dcff-4ced-8584-a26961b8c0a6"
      },
      "source": [
        "plt.plot(range(2,5), -gs_rf.cv_results_['mean_test_score'])\n",
        "plt.title('Random Forest Regressor')\n",
        "plt.xlabel('max depth')\n",
        "plt.ylabel('cv mean test score')\n",
        "plt.show()"
      ],
      "execution_count": null,
      "outputs": [
        {
          "output_type": "display_data",
          "data": {
            "image/png": "[encoded data removed]",
            "text/plain": [
              "<Figure size 432x288 with 1 Axes>"
            ]
          },
          "metadata": {
            "tags": [],
            "needs_background": "light"
          }
        }
      ]
    },
    {
      "cell_type": "code",
      "metadata": {
        "id": "pWuK03xaCP3X",
        "colab_type": "code",
        "colab": {
          "base_uri": "https://localhost:8080/",
          "height": 34
        },
        "outputId": "e62c04ca-db8f-46a6-a269-99c4db1f9480"
      },
      "source": [
        "gs_rf.best_params_['max_depth']"
      ],
      "execution_count": null,
      "outputs": [
        {
          "output_type": "execute_result",
          "data": {
            "text/plain": [
              "4"
            ]
          },
          "metadata": {
            "tags": []
          },
          "execution_count": 55
        }
      ]
    },
    {
      "cell_type": "code",
      "metadata": {
        "id": "vsDi2bYDCk2R",
        "colab_type": "code",
        "colab": {
          "base_uri": "https://localhost:8080/",
          "height": 70
        },
        "outputId": "647e1cc4-1029-49be-e02e-10afcb4602fa"
      },
      "source": [
        "kf = KFold(n_splits=5)\n",
        "scores = []\n",
        "for train_index, test_index in kf.split(X_train):\n",
        "    rf = RandomForestRegressor(criterion='mse', max_depth =2, n_jobs = -1)\n",
        "    rf.fit(X_train[train_index], y_train[train_index])\n",
        "    pred = rf.predict(X_train[test_index])\n",
        "    scores.append(mae(y_train[test_index], pred))\n",
        "\n",
        "Random_Forest_cv_mse = np.mean(scores)\n",
        "print('Random Forest Regressor, max_depth = {}'.format(gs_rf.best_params_['max_depth']))\n",
        "print(f'Random Forest Regressor cv_mse_score = {Random_Forest_cv_mse}\\n')"
      ],
      "execution_count": null,
      "outputs": [
        {
          "output_type": "stream",
          "text": [
            "Random Forest Regressor, max_depth = 4\n",
            "Random Forest Regressor cv_mse_score = 17.601697953647783\n",
            "\n"
          ],
          "name": "stdout"
        }
      ]
    },
    {
      "cell_type": "code",
      "metadata": {
        "id": "tSTZ6XIbCee7",
        "colab_type": "code",
        "colab": {
          "base_uri": "https://localhost:8080/",
          "height": 70
        },
        "outputId": "40e44b94-ad64-4f58-d119-a72637189d24"
      },
      "source": [
        "# best parameter 적용\n",
        "kf = KFold(n_splits=5)\n",
        "scores = []\n",
        "for train_index, test_index in kf.split(X_train):\n",
        "    rf = RandomForestRegressor(criterion='mse', max_depth =3, n_jobs = -1)\n",
        "    rf.fit(X_train[train_index], y_train[train_index])\n",
        "    pred = rf.predict(X_train[test_index])\n",
        "    scores.append(mae(y_train[test_index], pred))\n",
        "\n",
        "Random_Forest_cv_mse = np.mean(scores)\n",
        "print('Random Forest Regressor, max_depth = {}'.format(gs_rf.best_params_['max_depth']))\n",
        "print(f'Random Forest Regressor cv_mse_score = {Random_Forest_cv_mse}\\n')"
      ],
      "execution_count": null,
      "outputs": [
        {
          "output_type": "stream",
          "text": [
            "Random Forest Regressor, max_depth = 4\n",
            "Random Forest Regressor cv_mse_score = 17.491029530580747\n",
            "\n"
          ],
          "name": "stdout"
        }
      ]
    },
    {
      "cell_type": "code",
      "metadata": {
        "id": "6ATUhfSSC7z-",
        "colab_type": "code",
        "colab": {
          "base_uri": "https://localhost:8080/",
          "height": 140
        },
        "outputId": "585b2e9d-ba53-4d6a-f70e-9674bc7670a0"
      },
      "source": [
        "rf"
      ],
      "execution_count": null,
      "outputs": [
        {
          "output_type": "execute_result",
          "data": {
            "text/plain": [
              "RandomForestRegressor(bootstrap=True, ccp_alpha=0.0, criterion='mse',\n",
              "                      max_depth=2, max_features='auto', max_leaf_nodes=None,\n",
              "                      max_samples=None, min_impurity_decrease=0.0,\n",
              "                      min_impurity_split=None, min_samples_leaf=1,\n",
              "                      min_samples_split=2, min_weight_fraction_leaf=0.0,\n",
              "                      n_estimators=100, n_jobs=-1, oob_score=False,\n",
              "                      random_state=None, verbose=0, warm_start=False)"
            ]
          },
          "metadata": {
            "tags": []
          },
          "execution_count": 60
        }
      ]
    },
    {
      "cell_type": "code",
      "metadata": {
        "id": "F8Qq0F_T9kzr",
        "colab_type": "code",
        "colab": {
          "base_uri": "https://localhost:8080/",
          "height": 70
        },
        "outputId": "e385f19b-1408-4313-f20f-05df3bfd8667"
      },
      "source": [
        "# best parameter 적용\n",
        "kf = KFold(n_splits=5)\n",
        "scores = []\n",
        "for train_index, test_index in kf.split(X_train):\n",
        "    rf = RandomForestRegressor(criterion='mse', max_depth = gs_rf.best_params_['max_depth'], n_jobs = -1)\n",
        "    rf.fit(X_train[train_index], y_train[train_index])\n",
        "    pred = rf.predict(X_train[test_index])\n",
        "    scores.append(mae(y_train[test_index], pred))\n",
        "\n",
        "Random_Forest_cv_mse = np.mean(scores)\n",
        "print('Random Forest Regressor, max_depth = {}'.format(gs_rf.best_params_['max_depth']))\n",
        "print(f'Random Forest Regressor cv_mse_score = {Random_Forest_cv_mse}\\n')"
      ],
      "execution_count": null,
      "outputs": [
        {
          "output_type": "stream",
          "text": [
            "Random Forest Regressor, max_depth = 4\n",
            "Random Forest Regressor cv_mse_score = 17.387405231626094\n",
            "\n"
          ],
          "name": "stdout"
        }
      ]
    },
    {
      "cell_type": "markdown",
      "metadata": {
        "id": "YLHNp0zeEJ_7",
        "colab_type": "text"
      },
      "source": [
        "feature importance"
      ]
    },
    {
      "cell_type": "code",
      "metadata": {
        "id": "b7VUwemfEJdp",
        "colab_type": "code",
        "colab": {
          "base_uri": "https://localhost:8080/",
          "height": 239
        },
        "outputId": "53368725-247b-4774-c037-8810db285b21"
      },
      "source": [
        "# feature_importance: 가장 중요한 feature 인덱스 순으로 정렬\n",
        "fi = rf.feature_importances_.tolist()\n",
        "fi_sort = sorted(fi, reverse=True)\n",
        "feature_importance = []\n",
        "for i in range(14):\n",
        "    feature_importance.append(fi.index(fi_sort[i]))\n",
        "\n",
        "# 중요도 높은 feature 순서대로 선택하여 훈련\n",
        "cv_mae_selected = []\n",
        "for i in range(1,2):\n",
        "#for i in range(1,15):\n",
        "    X_train_selected = X_train[:,feature_importance[:i]]\n",
        "    kf = KFold(n_splits=5)\n",
        "    scores = []\n",
        "    for train_index, test_index in kf.split(X_train_selected):\n",
        "        rf = RandomForestRegressor(criterion='mae', max_depth = gs_rf.best_params_['max_depth'])\n",
        "        rf.fit(X_train_selected[train_index], y_train[train_index])\n",
        "        pred = rf.predict(X_train_selected[test_index])\n",
        "        scores.append(mae(y_train[test_index], pred))\n",
        "    cv_mae = np.mean(scores)\n",
        "    cv_mae_selected.append(cv_mae)\n",
        "    print(i, '-fold')"
      ],
      "execution_count": null,
      "outputs": [
        {
          "output_type": "error",
          "ename": "NameError",
          "evalue": "ignored",
          "traceback": [
            "\u001b[0;31m---------------------------------------------------------------------------\u001b[0m",
            "\u001b[0;31mNameError\u001b[0m                                 Traceback (most recent call last)",
            "\u001b[0;32m<ipython-input-49-1fcfbce48112>\u001b[0m in \u001b[0;36m<module>\u001b[0;34m()\u001b[0m\n\u001b[1;32m      1\u001b[0m \u001b[0;31m# feature_importance: 가장 중요한 feature 인덱스 순으로 정렬\u001b[0m\u001b[0;34m\u001b[0m\u001b[0;34m\u001b[0m\u001b[0;34m\u001b[0m\u001b[0m\n\u001b[0;32m----> 2\u001b[0;31m \u001b[0mfi\u001b[0m \u001b[0;34m=\u001b[0m \u001b[0mrf\u001b[0m\u001b[0;34m.\u001b[0m\u001b[0mfeature_importances_\u001b[0m\u001b[0;34m.\u001b[0m\u001b[0mtolist\u001b[0m\u001b[0;34m(\u001b[0m\u001b[0;34m)\u001b[0m\u001b[0;34m\u001b[0m\u001b[0;34m\u001b[0m\u001b[0m\n\u001b[0m\u001b[1;32m      3\u001b[0m \u001b[0mfi_sort\u001b[0m \u001b[0;34m=\u001b[0m \u001b[0msorted\u001b[0m\u001b[0;34m(\u001b[0m\u001b[0mfi\u001b[0m\u001b[0;34m,\u001b[0m \u001b[0mreverse\u001b[0m\u001b[0;34m=\u001b[0m\u001b[0;32mTrue\u001b[0m\u001b[0;34m)\u001b[0m\u001b[0;34m\u001b[0m\u001b[0;34m\u001b[0m\u001b[0m\n\u001b[1;32m      4\u001b[0m \u001b[0mfeature_importance\u001b[0m \u001b[0;34m=\u001b[0m \u001b[0;34m[\u001b[0m\u001b[0;34m]\u001b[0m\u001b[0;34m\u001b[0m\u001b[0;34m\u001b[0m\u001b[0m\n\u001b[1;32m      5\u001b[0m \u001b[0;32mfor\u001b[0m \u001b[0mi\u001b[0m \u001b[0;32min\u001b[0m \u001b[0mrange\u001b[0m\u001b[0;34m(\u001b[0m\u001b[0;36m14\u001b[0m\u001b[0;34m)\u001b[0m\u001b[0;34m:\u001b[0m\u001b[0;34m\u001b[0m\u001b[0;34m\u001b[0m\u001b[0m\n",
            "\u001b[0;31mNameError\u001b[0m: name 'rf' is not defined"
          ]
        }
      ]
    },
    {
      "cell_type": "code",
      "metadata": {
        "id": "sHl60l5Nvm9F",
        "colab_type": "code",
        "colab": {
          "base_uri": "https://localhost:8080/",
          "height": 34
        },
        "outputId": "ce6e19ac-ff36-4703-ac34-363e6cff3284"
      },
      "source": [
        "cv_mae_selected"
      ],
      "execution_count": null,
      "outputs": [
        {
          "output_type": "execute_result",
          "data": {
            "text/plain": [
              "[16.33400911550529]"
            ]
          },
          "metadata": {
            "tags": []
          },
          "execution_count": 56
        }
      ]
    },
    {
      "cell_type": "code",
      "metadata": {
        "id": "G5yh1e_-RT5x",
        "colab_type": "code",
        "colab": {
          "base_uri": "https://localhost:8080/",
          "height": 295
        },
        "outputId": "316ffe9d-5932-44da-f17c-a1705f43ee0e"
      },
      "source": [
        "# feature selection 시각화\n",
        "plt.plot(range(1,2), cv_mae_selected)\n",
        "#plt.plot(range(1,15), cv_mae_selected)\n",
        "plt.title('Feature Selection: Random Forest')\n",
        "plt.xlabel('training feature number')\n",
        "plt.ylabel('cv mae score')\n",
        "plt.show()"
      ],
      "execution_count": null,
      "outputs": [
        {
          "output_type": "display_data",
          "data": {
            "image/png": "[encoded data removed]",
            "text/plain": [
              "<Figure size 432x288 with 1 Axes>"
            ]
          },
          "metadata": {
            "tags": [],
            "needs_background": "light"
          }
        }
      ]
    },
    {
      "cell_type": "markdown",
      "metadata": {
        "id": "g85Qe_7vl94c",
        "colab_type": "text"
      },
      "source": [
        "## Gradient Boosting Regressor\n",
        "부스팅을 적용한 decision tree의 앙상블"
      ]
    },
    {
      "cell_type": "code",
      "metadata": {
        "id": "VSldv4Oq-Xm8",
        "colab_type": "code",
        "colab": {}
      },
      "source": [
        "from sklearn.ensemble import GradientBoostingRegressor\n",
        "\n",
        "param_grid = {'max_depth': range(2,6),\n",
        "              'learning_rate': [0.05, .1]}\n",
        "gs_gbr = GridSearchCV(RandomForestRegressor(criterion='mae'), param_grid, refit=True, verbose=2)\n",
        "gs_gbr.fit(X_train, y_train)"
      ],
      "execution_count": null,
      "outputs": []
    },
    {
      "cell_type": "code",
      "metadata": {
        "id": "nD7eYJmDAP9t",
        "colab_type": "code",
        "colab": {}
      },
      "source": [
        "# best parameter 적용\n",
        "kf = KFold(n_splits=5)\n",
        "scores = []\n",
        "for train_index, test_index in kf.split(X_train):\n",
        "    gbr = GradientBoostingRegressor(criterion='mae', max_depth = gs_gbr.best_params_['max_depth'], learning_rate = gs_gbr.best_params_['learning_rate'])\n",
        "    gbr.fit(X_train[train_index], y_train[train_index])\n",
        "    pred = gbr.predict(X_train[test_index])\n",
        "    scores.append(mae(y_train[test_index], pred))\n",
        "\n",
        "GBR_cv_mae = np.mean(scores)\n",
        "print('Gradient Boosting Regressor, max_depth = {0}, learning_rate = {1}'.format(gs_gbr.best_params_['max_depth'], gs_gbr.best_params_['learning_rate']))\n",
        "print(f'Gradient Boosting Regressor cv_mae_score = {GBR_cv_mae}\\n')"
      ],
      "execution_count": null,
      "outputs": []
    },
    {
      "cell_type": "code",
      "metadata": {
        "id": "o74Ks7ObAQeU",
        "colab_type": "code",
        "colab": {}
      },
      "source": [
        "plt.plot(range(2,6), gs_gbr.cv_results_['mean_test_score'])\n",
        "plt.title('Gradient Boosting Regressor')\n",
        "plt.xlabel('max depth (learning_rate={})'.format(gs_gbr.best_params_['learning_rate']))\n",
        "plt.ylabel('cv mean test score')\n",
        "plt.show()"
      ],
      "execution_count": null,
      "outputs": []
    },
    {
      "cell_type": "markdown",
      "metadata": {
        "id": "TRrCGVg6ATXB",
        "colab_type": "text"
      },
      "source": [
        "feature selection"
      ]
    },
    {
      "cell_type": "code",
      "metadata": {
        "id": "afGNoBdtYuZY",
        "colab_type": "code",
        "colab": {}
      },
      "source": [
        "# feature_importance: 가장 중요한 feature 인덱스 순으로 정렬\n",
        "fi = gbr.feature_importances_.tolist()\n",
        "fi_sort = sorted(fi, reverse=True)\n",
        "feature_importance = []\n",
        "for i in range(14):\n",
        "    feature_importance.append(fi.index(fi_sort)[i]))\n",
        "\n",
        "# 중요도 높은 feature 순서대로 선택하여 훈련\n",
        "cv_mae_selected = []\n",
        "for i in range(1,15): \n",
        "    X_train_selected = X_train[:,feature_importance[:i]]\n",
        "    kf = KFold(n_splits=5)\n",
        "    scores = []\n",
        "    for train_index, test_index in kf.split(X_train_selected):\n",
        "        gbr = GradientBoostingRegressor(criterion='mae', max_depth = gs_gbr.best_params_['max_depth'], learning_rate = gs_gbr.best_params_['learning_rate'])\n",
        "        gbr.fit(X_train_selected[train_index], y_train[train_index])\n",
        "        pred = gbr.predict(X_train_selected[train_index])\n",
        "        scores.append(mae(y_train[train_index], pred))\n",
        "    cv_mae = np.mean(scores)\n",
        "    cv_mae_selected.append(cv_mae) # 총 14개 저장되어야 함"
      ],
      "execution_count": null,
      "outputs": []
    },
    {
      "cell_type": "code",
      "metadata": {
        "id": "8X9tG4RZHJxU",
        "colab_type": "code",
        "colab": {}
      },
      "source": [
        "# feature selection 시각화\n",
        "plt.plot(range(1,15), cv_mae_selected)\n",
        "plt.title('Feature Selection: Gradient Boosting Regressor')\n",
        "plt.xlabel('training feature number')\n",
        "plt.ylabel('cv mae score')\n",
        "plt.show()"
      ],
      "execution_count": null,
      "outputs": []
    },
    {
      "cell_type": "markdown",
      "metadata": {
        "id": "1f6ZDUrp86oD",
        "colab_type": "text"
      },
      "source": [
        "## XGBoost (GPU 켜고 돌리기)"
      ]
    },
    {
      "cell_type": "code",
      "metadata": {
        "id": "sxr19ekbdee6",
        "colab_type": "code",
        "colab": {
          "base_uri": "https://localhost:8080/",
          "height": 125
        },
        "outputId": "0d688530-7033-4a09-8b31-d4c0d61cde8a"
      },
      "source": [
        "from xgboost import XGBRegressor\n",
        "\n",
        "xgb = XGBRegressor()\n",
        "parameters = {'nthread':[4],\n",
        "              'objective':['reg:linear'],\n",
        "              'learning_rate': [.03, 0.05, .1],\n",
        "              'max_depth': [2, 3, 4, 5],\n",
        "              'min_child_weight': [4],\n",
        "              'silent': [1],\n",
        "              'subsample': [0.7],\n",
        "              'colsample_bytree': [0.7],\n",
        "              'n_estimators': [500]}\n",
        "\n",
        "xgb_grid = GridSearchCV(xgb,\n",
        "                        parameters,\n",
        "                        cv = 3,\n",
        "                        #n_jobs = 5,\n",
        "                        n_jobs = -1,\n",
        "                        verbose=True)\n",
        "\n",
        "xgb_grid.fit(X_train, y_train)\n",
        "# print(xgb_grid.best_score_)\n",
        "# print(xgb_grid.best_params_)"
      ],
      "execution_count": null,
      "outputs": [
        {
          "output_type": "stream",
          "text": [
            "Fitting 2 folds for each of 9 candidates, totalling 18 fits\n"
          ],
          "name": "stdout"
        },
        {
          "output_type": "stream",
          "text": [
            "[Parallel(n_jobs=-1)]: Using backend LokyBackend with 2 concurrent workers.\n",
            "[Parallel(n_jobs=-1)]: Done  18 out of  18 | elapsed:  3.4min finished\n"
          ],
          "name": "stderr"
        },
        {
          "output_type": "stream",
          "text": [
            "0.04918227752623727\n",
            "{'colsample_bytree': 0.7, 'learning_rate': 0.03, 'max_depth': 5, 'min_child_weight': 4, 'n_estimators': 500, 'nthread': 4, 'objective': 'reg:linear', 'silent': 1, 'subsample': 0.7}\n"
          ],
          "name": "stdout"
        }
      ]
    },
    {
      "cell_type": "code",
      "metadata": {
        "id": "mLbVPadETwMD",
        "colab_type": "code",
        "colab": {}
      },
      "source": [
        "# best parameter 적용\n",
        "kf = KFold(n_splits=5)\n",
        "scores = []\n",
        "for train_index, test_index in kf.split(X_train):\n",
        "    xgb = XGBRegressor(learning_rate = xgb_grid.best_params_['learning_rate']\n",
        "                       max_depth = xgb_grid.best_params_['max_depth'],\n",
        "                       verbose = True)\n",
        "    xgb.fit(X_train[train_index], y_train[train_index])\n",
        "    pred = xgb.predict(X_train[test_index])\n",
        "    scores.append(mae(y_train[test_index], pred))\n",
        "\n",
        "XGB_cv_mae = np.mean(scores)\n",
        "print('XGBoost, learning_rate = {0}, max_depth = {1}'.format(xgb_grid.best_params_['learning_rate'], xgb_grid.best_params_['max_depth']))\n",
        "print(f'XGBoost cv_mae_score = {XGB_cv_mae}\\n')"
      ],
      "execution_count": null,
      "outputs": []
    },
    {
      "cell_type": "code",
      "metadata": {
        "id": "g7i3T6ceVISw",
        "colab_type": "code",
        "colab": {}
      },
      "source": [
        "plt.plot(range(2,6), xgb_grid.cv_results_['mean_test_score'])\n",
        "plt.title('XGBoost')\n",
        "plt.xlabel('max depth')\n",
        "plt.ylabel('cv mean test score')\n",
        "plt.show()"
      ],
      "execution_count": null,
      "outputs": []
    },
    {
      "cell_type": "markdown",
      "metadata": {
        "id": "UtEVUWuhnc3o",
        "colab_type": "text"
      },
      "source": [
        "# PCA\n",
        "제일 좋은 모델로!"
      ]
    },
    {
      "cell_type": "code",
      "metadata": {
        "id": "RRcAZqfE-KCA",
        "colab_type": "code",
        "colab": {}
      },
      "source": [
        "from sklearn.decomposition import PCA\n",
        "pca = PCA()\n",
        "kf_10 = model_selection.KFold(n_splits=10, shuffle=True, random_state=1)\n"
      ],
      "execution_count": null,
      "outputs": []
    },
    {
      "cell_type": "code",
      "metadata": {
        "id": "AJOUdgcRWwcA",
        "colab_type": "code",
        "colab": {}
      },
      "source": [
        ""
      ],
      "execution_count": null,
      "outputs": []
    }
  ]
}